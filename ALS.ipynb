{
 "cells": [
  {
   "cell_type": "code",
   "execution_count": 1,
   "id": "regional-fleece",
   "metadata": {},
   "outputs": [
    {
     "data": {
      "application/vnd.jupyter.widget-view+json": {
       "model_id": "2536d8b61c0b417e809d12d142f993f7",
       "version_major": 2,
       "version_minor": 0
      },
      "text/plain": [
       "VBox()"
      ]
     },
     "metadata": {},
     "output_type": "display_data"
    },
    {
     "name": "stdout",
     "output_type": "stream",
     "text": [
      "Starting Spark application\n"
     ]
    },
    {
     "data": {
      "text/html": [
       "<table>\n",
       "<tr><th>ID</th><th>YARN Application ID</th><th>Kind</th><th>State</th><th>Spark UI</th><th>Driver log</th><th>Current session?</th></tr><tr><td>2</td><td>application_1617185507602_0003</td><td>pyspark</td><td>idle</td><td></td><td></td><td>✔</td></tr></table>"
      ],
      "text/plain": [
       "<IPython.core.display.HTML object>"
      ]
     },
     "metadata": {},
     "output_type": "display_data"
    },
    {
     "data": {
      "application/vnd.jupyter.widget-view+json": {
       "model_id": "",
       "version_major": 2,
       "version_minor": 0
      },
      "text/plain": [
       "FloatProgress(value=0.0, bar_style='info', description='Progress:', layout=Layout(height='25px', width='50%'),…"
      ]
     },
     "metadata": {},
     "output_type": "display_data"
    },
    {
     "name": "stdout",
     "output_type": "stream",
     "text": [
      "SparkSession available as 'spark'.\n"
     ]
    },
    {
     "data": {
      "application/vnd.jupyter.widget-view+json": {
       "model_id": "",
       "version_major": 2,
       "version_minor": 0
      },
      "text/plain": [
       "FloatProgress(value=0.0, bar_style='info', description='Progress:', layout=Layout(height='25px', width='50%'),…"
      ]
     },
     "metadata": {},
     "output_type": "display_data"
    },
    {
     "name": "stderr",
     "output_type": "stream",
     "text": [
      "Cannot run multiple SparkContexts at once; existing SparkContext(app=livy-session-2, master=yarn) created by __init__ at /tmp/8206688282228336114:595 \n",
      "Traceback (most recent call last):\n",
      "  File \"/usr/lib/spark/python/lib/pyspark.zip/pyspark/context.py\", line 133, in __init__\n",
      "    SparkContext._ensure_initialized(self, gateway=gateway, conf=conf)\n",
      "  File \"/usr/lib/spark/python/lib/pyspark.zip/pyspark/context.py\", line 340, in _ensure_initialized\n",
      "    callsite.function, callsite.file, callsite.linenum))\n",
      "ValueError: Cannot run multiple SparkContexts at once; existing SparkContext(app=livy-session-2, master=yarn) created by __init__ at /tmp/8206688282228336114:595 \n",
      "\n"
     ]
    }
   ],
   "source": [
    "import pyspark\n",
    "from pyspark.sql import *\n",
    "from pyspark.sql.types import *\n",
    "from pyspark.sql.functions import *\n",
    "from pyspark import SparkContext, SparkConf\n",
    "\n",
    "conf = SparkConf()\n",
    "\n",
    "# create the context\n",
    "sc = pyspark.SparkContext(conf=conf)\n",
    "spark = SparkSession.builder.getOrCreate()"
   ]
  },
  {
   "cell_type": "code",
   "execution_count": 2,
   "id": "adapted-blocking",
   "metadata": {},
   "outputs": [
    {
     "data": {
      "application/vnd.jupyter.widget-view+json": {
       "model_id": "60916755916e414c8ee8031df7996d54",
       "version_major": 2,
       "version_minor": 0
      },
      "text/plain": [
       "VBox()"
      ]
     },
     "metadata": {},
     "output_type": "display_data"
    },
    {
     "data": {
      "application/vnd.jupyter.widget-view+json": {
       "model_id": "",
       "version_major": 2,
       "version_minor": 0
      },
      "text/plain": [
       "FloatProgress(value=0.0, bar_style='info', description='Progress:', layout=Layout(height='25px', width='50%'),…"
      ]
     },
     "metadata": {},
     "output_type": "display_data"
    }
   ],
   "source": [
    "play_count = spark.read.parquet('s3://17700project/play_counts.parquet')"
   ]
  },
  {
   "cell_type": "code",
   "execution_count": 3,
   "id": "iraqi-grocery",
   "metadata": {},
   "outputs": [
    {
     "data": {
      "application/vnd.jupyter.widget-view+json": {
       "model_id": "2d0b0b959dec4ba184b6094f700de9e0",
       "version_major": 2,
       "version_minor": 0
      },
      "text/plain": [
       "VBox()"
      ]
     },
     "metadata": {},
     "output_type": "display_data"
    },
    {
     "data": {
      "application/vnd.jupyter.widget-view+json": {
       "model_id": "",
       "version_major": 2,
       "version_minor": 0
      },
      "text/plain": [
       "FloatProgress(value=0.0, bar_style='info', description='Progress:', layout=Layout(height='25px', width='50%'),…"
      ]
     },
     "metadata": {},
     "output_type": "display_data"
    },
    {
     "name": "stdout",
     "output_type": "stream",
     "text": [
      "Training: 43537939, test: 4835646\n",
      "\n",
      "+------------------+--------------------+-----+----------+----------+\n",
      "|            songId|              userId|Plays|new_userId|new_songId|\n",
      "+------------------+--------------------+-----+----------+----------+\n",
      "|SOAAEKX12A6D4F7E4E|00732e30a5abe4bec...|    1|    950928|    359777|\n",
      "|SOAAEKX12A6D4F7E4E|00a3ee4941f7799ac...|    5|    473004|    359777|\n",
      "|SOAAEKX12A6D4F7E4E|0129ee80d24fc9fe4...|    2|    508986|    359777|\n",
      "+------------------+--------------------+-----+----------+----------+\n",
      "only showing top 3 rows\n",
      "\n",
      "+------------------+--------------------+-----+----------+----------+\n",
      "|            songId|              userId|Plays|new_userId|new_songId|\n",
      "+------------------+--------------------+-----+----------+----------+\n",
      "|SOAAEKX12A6D4F7E4E|03bfb186b1c7fbe92...|    1|    385109|    359777|\n",
      "|SOAAEKX12A6D4F7E4E|059266e024833d7a2...|    1|     67922|    359777|\n",
      "|SOAAEKX12A6D4F7E4E|065c1954997224976...|    1|    227403|    359777|\n",
      "+------------------+--------------------+-----+----------+----------+\n",
      "only showing top 3 rows"
     ]
    }
   ],
   "source": [
    "seed = 180000\n",
    "(split_80_df, split_20_df) = play_count.randomSplit([0.9, 0.1], seed = seed)\n",
    "\n",
    "# Let's cache these datasets for performance\n",
    "training_df = split_80_df.cache()\n",
    "test_df = split_20_df.cache()\n",
    "\n",
    "print('Training: {0}, test: {1}\\n'.format(\n",
    "  training_df.count(), test_df.count())\n",
    ")\n",
    "training_df.show(3)\n",
    "test_df.show(3)"
   ]
  },
  {
   "cell_type": "code",
   "execution_count": 15,
   "id": "actual-lancaster",
   "metadata": {},
   "outputs": [
    {
     "data": {
      "application/vnd.jupyter.widget-view+json": {
       "model_id": "411cf360582b4a6ca20505aa662e54fe",
       "version_major": 2,
       "version_minor": 0
      },
      "text/plain": [
       "VBox()"
      ]
     },
     "metadata": {},
     "output_type": "display_data"
    },
    {
     "data": {
      "application/vnd.jupyter.widget-view+json": {
       "model_id": "",
       "version_major": 2,
       "version_minor": 0
      },
      "text/plain": [
       "FloatProgress(value=0.0, bar_style='info', description='Progress:', layout=Layout(height='25px', width='50%'),…"
      ]
     },
     "metadata": {},
     "output_type": "display_data"
    },
    {
     "name": "stdout",
     "output_type": "stream",
     "text": [
      "out\n",
      "first\n",
      "sec\n",
      "For rank 4, regularization parameter 0.15 the RMSE is 6.8525437557468685\n",
      "sec\n",
      "For rank 8, regularization parameter 0.15 the RMSE is 6.619838365852312\n",
      "sec\n",
      "For rank 12, regularization parameter 0.15 the RMSE is 6.5561938526724255\n",
      "sec\n",
      "For rank 16, regularization parameter 0.15 the RMSE is 6.457795264677563\n",
      "first\n",
      "sec\n",
      "For rank 4, regularization parameter 0.2 the RMSE is 6.706337621866709\n",
      "sec\n",
      "For rank 8, regularization parameter 0.2 the RMSE is 6.48005677521155\n",
      "sec\n",
      "For rank 12, regularization parameter 0.2 the RMSE is 6.4367203988905555\n",
      "sec\n",
      "For rank 16, regularization parameter 0.2 the RMSE is 6.335132986443452\n",
      "first\n",
      "sec\n",
      "For rank 4, regularization parameter 0.25 the RMSE is 6.609541665734989\n",
      "sec\n",
      "For rank 8, regularization parameter 0.25 the RMSE is 6.389694871225723\n",
      "sec\n",
      "For rank 12, regularization parameter 0.25 the RMSE is 6.3522922753247135\n",
      "sec\n",
      "For rank 16, regularization parameter 0.25 the RMSE is 6.247886762104598\n",
      "The best model was trained with regularization parameter 0.25\n",
      "The best model was trained with rank 16"
     ]
    }
   ],
   "source": [
    "from pyspark.ml.recommendation import ALS\n",
    "from pyspark.ml.evaluation import RegressionEvaluator\n",
    "import time \n",
    "\n",
    "strt_time = time.time()\n",
    "# Let's initialize our ALS learner\n",
    "als = ALS()\n",
    "\n",
    "#df_pandas = sc.createDataFrame(training_df.head(50), columns=training_df.columns)\n",
    "# Now set the parameters for the method\n",
    "als.setMaxIter(5)\\\n",
    "   .setSeed(seed)\\\n",
    "   .setItemCol(\"new_songId\")\\\n",
    "   .setRatingCol(\"Plays\")\\\n",
    "   .setUserCol(\"new_userId\")\n",
    "print('out')\n",
    "# Now let's compute an evaluation metric for our test dataset\n",
    "# We Create an RMSE evaluator using the label and predicted columns\n",
    "reg_eval = RegressionEvaluator(predictionCol=\"prediction\", labelCol=\"Plays\", metricName=\"rmse\")\n",
    "\n",
    "tolerance = 0.03\n",
    "ranks = [4, 8, 12, 16] #Tuning\n",
    "regParams = [0.15, 0.2, 0.25] #Tuning\n",
    "errors = [[0]*len(ranks)]*len(regParams)\n",
    "models = [[0]*len(ranks)]*len(regParams)\n",
    "err = 0\n",
    "min_error = float('inf')\n",
    "best_rank = -1\n",
    "i = 0\n",
    "for regParam in regParams:\n",
    "    j = 0\n",
    "    print('first')\n",
    "    for rank in ranks:\n",
    "        print('sec')\n",
    "        # Set the rank here:\n",
    "        # train = train.filter(train.new_userId < sys.maxsize).filter(train.new_songId < sys.maxsize)\n",
    "        als.setParams(rank = rank, regParam = regParam)\n",
    "        # Create the model with these parameters.\n",
    "        model = als.fit(training_df)\n",
    "        # Run the model to create a prediction. Predict against the validation_df.\n",
    "        predict_df = model.transform(validation_df)\n",
    "\n",
    "        # Remove NaN values from prediction (due to SPARK-14489)\n",
    "        predicted_plays_df = predict_df.filter(predict_df.prediction != float('nan'))\n",
    "        predicted_plays_df = predicted_plays_df.withColumn(\"prediction\", F.abs(F.round(predicted_plays_df[\"prediction\"],0)))\n",
    "        # Run the previously created RMSE evaluator, reg_eval, on the predicted_ratings_df DataFrame\n",
    "        error = reg_eval.evaluate(predicted_plays_df)\n",
    "        errors[i][j] = error\n",
    "        models[i][j] = model\n",
    "        print('For rank %s, regularization parameter %s the RMSE is %s' % (rank, regParam, error))\n",
    "        if error < min_error:\n",
    "            min_error = error\n",
    "            best_params = [i,j]\n",
    "        j += 1\n",
    "    i += 1\n",
    "\n",
    "als.setRegParam(regParams[best_params[0]])\n",
    "als.setRank(ranks[best_params[1]])\n",
    "print('The best model was trained with regularization parameter %s' % regParams[best_params[0]])\n",
    "print('The best model was trained with rank %s' % ranks[best_params[1]])\n",
    "my_model = models[best_params[0]][best_params[1]]\n",
    "end_time = time.time()"
   ]
  },
  {
   "cell_type": "code",
   "execution_count": 4,
   "id": "flexible-essex",
   "metadata": {},
   "outputs": [
    {
     "data": {
      "application/vnd.jupyter.widget-view+json": {
       "model_id": "7016b9815aed4b92ba47114d8c978652",
       "version_major": 2,
       "version_minor": 0
      },
      "text/plain": [
       "VBox()"
      ]
     },
     "metadata": {},
     "output_type": "display_data"
    },
    {
     "data": {
      "application/vnd.jupyter.widget-view+json": {
       "model_id": "",
       "version_major": 2,
       "version_minor": 0
      },
      "text/plain": [
       "FloatProgress(value=0.0, bar_style='info', description='Progress:', layout=Layout(height='25px', width='50%'),…"
      ]
     },
     "metadata": {},
     "output_type": "display_data"
    }
   ],
   "source": [
    "from pyspark.ml.recommendation import ALS\n",
    "from pyspark.ml.evaluation import RegressionEvaluator\n",
    "from pyspark.ml import Pipeline\n",
    "\n",
    "# Let's initialize our ALS learner\n",
    "als = ALS()\n",
    "\n",
    "#df_pandas = sc.createDataFrame(training_df.head(50), columns=training_df.columns)\n",
    "# Now set the parameters for the method\n",
    "als.setMaxIter(5)\\\n",
    "   .setSeed(seed)\\\n",
    "   .setItemCol(\"new_songId\")\\\n",
    "   .setRatingCol(\"Plays\")\\\n",
    "   .setUserCol(\"new_userId\")\n",
    "\n",
    "ALSPipeline = Pipeline()\n",
    "\n",
    "ALSPipeline.setStages([als])\n",
    "\n",
    "reg_eval = RegressionEvaluator(predictionCol=\"prediction\", labelCol=\"Plays\", metricName=\"rmse\")"
   ]
  },
  {
   "cell_type": "code",
   "execution_count": 5,
   "id": "measured-chase",
   "metadata": {},
   "outputs": [
    {
     "data": {
      "application/vnd.jupyter.widget-view+json": {
       "model_id": "ec2e4f0223444f8c9f6fa4b05af31a12",
       "version_major": 2,
       "version_minor": 0
      },
      "text/plain": [
       "VBox()"
      ]
     },
     "metadata": {},
     "output_type": "display_data"
    },
    {
     "data": {
      "application/vnd.jupyter.widget-view+json": {
       "model_id": "",
       "version_major": 2,
       "version_minor": 0
      },
      "text/plain": [
       "FloatProgress(value=0.0, bar_style='info', description='Progress:', layout=Layout(height='25px', width='50%'),…"
      ]
     },
     "metadata": {},
     "output_type": "display_data"
    },
    {
     "name": "stdout",
     "output_type": "stream",
     "text": [
      "CrossValidator_3387a582137f"
     ]
    }
   ],
   "source": [
    "from pyspark.ml.tuning import ParamGridBuilder, CrossValidator\n",
    "\n",
    "crossval = CrossValidator(estimator = ALSPipeline, evaluator = reg_eval, numFolds=10)\n",
    "\n",
    "ranks = [16]\n",
    "regParams = [0.25]\n",
    "\n",
    "paramGrid = (ParamGridBuilder()\n",
    "             .addGrid(als.rank, ranks)\n",
    "             .addGrid(als.regParam, regParams)\n",
    "             .build())\n",
    "\n",
    "crossval.setEstimatorParamMaps(paramGrid)"
   ]
  },
  {
   "cell_type": "code",
   "execution_count": 6,
   "id": "eastern-friend",
   "metadata": {},
   "outputs": [
    {
     "data": {
      "application/vnd.jupyter.widget-view+json": {
       "model_id": "a0a033ae174c46dbad4670fedcbe20f4",
       "version_major": 2,
       "version_minor": 0
      },
      "text/plain": [
       "VBox()"
      ]
     },
     "metadata": {},
     "output_type": "display_data"
    },
    {
     "data": {
      "application/vnd.jupyter.widget-view+json": {
       "model_id": "",
       "version_major": 2,
       "version_minor": 0
      },
      "text/plain": [
       "FloatProgress(value=0.0, bar_style='info', description='Progress:', layout=Layout(height='25px', width='50%'),…"
      ]
     },
     "metadata": {},
     "output_type": "display_data"
    }
   ],
   "source": [
    "import time\n",
    "\n",
    "strt_time = time.time()\n",
    "cvModel = crossval.fit(training_df).bestModel\n",
    "end_time = time.time()"
   ]
  },
  {
   "cell_type": "code",
   "execution_count": 7,
   "id": "preceding-sequence",
   "metadata": {},
   "outputs": [
    {
     "data": {
      "application/vnd.jupyter.widget-view+json": {
       "model_id": "117ae8016dc9497da08d75aa7df0b7fc",
       "version_major": 2,
       "version_minor": 0
      },
      "text/plain": [
       "VBox()"
      ]
     },
     "metadata": {},
     "output_type": "display_data"
    },
    {
     "data": {
      "application/vnd.jupyter.widget-view+json": {
       "model_id": "",
       "version_major": 2,
       "version_minor": 0
      },
      "text/plain": [
       "FloatProgress(value=0.0, bar_style='info', description='Progress:', layout=Layout(height='25px', width='50%'),…"
      ]
     },
     "metadata": {},
     "output_type": "display_data"
    },
    {
     "name": "stdout",
     "output_type": "stream",
     "text": [
      "-1637.989329814911"
     ]
    }
   ],
   "source": [
    "strt_time - end_time"
   ]
  },
  {
   "cell_type": "code",
   "execution_count": 8,
   "id": "czech-shelf",
   "metadata": {},
   "outputs": [
    {
     "data": {
      "application/vnd.jupyter.widget-view+json": {
       "model_id": "b065556d02e540d598c446c050749667",
       "version_major": 2,
       "version_minor": 0
      },
      "text/plain": [
       "VBox()"
      ]
     },
     "metadata": {},
     "output_type": "display_data"
    },
    {
     "data": {
      "application/vnd.jupyter.widget-view+json": {
       "model_id": "",
       "version_major": 2,
       "version_minor": 0
      },
      "text/plain": [
       "FloatProgress(value=0.0, bar_style='info', description='Progress:', layout=Layout(height='25px', width='50%'),…"
      ]
     },
     "metadata": {},
     "output_type": "display_data"
    },
    {
     "name": "stdout",
     "output_type": "stream",
     "text": [
      "6.8729582380117415"
     ]
    }
   ],
   "source": [
    "reg_eval.evaluate(cvModel.transform(test_df).na.drop())"
   ]
  },
  {
   "cell_type": "code",
   "execution_count": 10,
   "id": "parental-playlist",
   "metadata": {},
   "outputs": [
    {
     "data": {
      "application/vnd.jupyter.widget-view+json": {
       "model_id": "b561067302f1489786a48f23b8a91e55",
       "version_major": 2,
       "version_minor": 0
      },
      "text/plain": [
       "VBox()"
      ]
     },
     "metadata": {},
     "output_type": "display_data"
    },
    {
     "data": {
      "application/vnd.jupyter.widget-view+json": {
       "model_id": "",
       "version_major": 2,
       "version_minor": 0
      },
      "text/plain": [
       "FloatProgress(value=0.0, bar_style='info', description='Progress:', layout=Layout(height='25px', width='50%'),…"
      ]
     },
     "metadata": {},
     "output_type": "display_data"
    },
    {
     "name": "stdout",
     "output_type": "stream",
     "text": [
      "+------------------+--------------------+-----+----------+----------+----------+\n",
      "|            songId|              userId|Plays|new_userId|new_songId|prediction|\n",
      "+------------------+--------------------+-----+----------+----------+----------+\n",
      "|SOLWEWK12AB01868C7|6574b1ab665c4f7d8...|    1|     11897|       148| 2.6320627|\n",
      "|SOLWEWK12AB01868C7|782a0aaa53974624e...|    1|     12273|       148| 1.7617823|\n",
      "|SOLWEWK12AB01868C7|965b46681bf99de91...|    1|    768967|       148| 2.7085574|\n",
      "|SOLWEWK12AB01868C7|40507bd795fd2126a...|    1|    198619|       148| 2.0548723|\n",
      "|SOLWEWK12AB01868C7|30a7cfb4df2883de4...|    2|    474675|       148|  5.706163|\n",
      "+------------------+--------------------+-----+----------+----------+----------+\n",
      "only showing top 5 rows"
     ]
    }
   ],
   "source": [
    "cvModel.transform(test_df)."
   ]
  },
  {
   "cell_type": "code",
   "execution_count": 9,
   "id": "radical-skirt",
   "metadata": {},
   "outputs": [
    {
     "data": {
      "application/vnd.jupyter.widget-view+json": {
       "model_id": "e3ccefb6558443f6b4498d14a3579fbc",
       "version_major": 2,
       "version_minor": 0
      },
      "text/plain": [
       "VBox()"
      ]
     },
     "metadata": {},
     "output_type": "display_data"
    },
    {
     "data": {
      "application/vnd.jupyter.widget-view+json": {
       "model_id": "",
       "version_major": 2,
       "version_minor": 0
      },
      "text/plain": [
       "FloatProgress(value=0.0, bar_style='info', description='Progress:', layout=Layout(height='25px', width='50%'),…"
      ]
     },
     "metadata": {},
     "output_type": "display_data"
    }
   ],
   "source": [
    "pred = cvModel.transform(test_df)"
   ]
  },
  {
   "cell_type": "code",
   "execution_count": 10,
   "id": "previous-porcelain",
   "metadata": {},
   "outputs": [
    {
     "data": {
      "application/vnd.jupyter.widget-view+json": {
       "model_id": "dce1d1ffd39d43ffbed0b5736dcba056",
       "version_major": 2,
       "version_minor": 0
      },
      "text/plain": [
       "VBox()"
      ]
     },
     "metadata": {},
     "output_type": "display_data"
    },
    {
     "data": {
      "application/vnd.jupyter.widget-view+json": {
       "model_id": "",
       "version_major": 2,
       "version_minor": 0
      },
      "text/plain": [
       "FloatProgress(value=0.0, bar_style='info', description='Progress:', layout=Layout(height='25px', width='50%'),…"
      ]
     },
     "metadata": {},
     "output_type": "display_data"
    },
    {
     "name": "stdout",
     "output_type": "stream",
     "text": [
      "+------+------+-----+----------+----------+----------+\n",
      "|songId|userId|Plays|new_userId|new_songId|prediction|\n",
      "+------+------+-----+----------+----------+----------+\n",
      "|     0|     0|    0|         0|         0|      9089|\n",
      "+------+------+-----+----------+----------+----------+"
     ]
    }
   ],
   "source": [
    "pred.select([count(when(isnan(c) | col(c).isNull(), c)).alias(c) for c in pred.columns]).show()"
   ]
  },
  {
   "cell_type": "code",
   "execution_count": 12,
   "id": "divine-joining",
   "metadata": {},
   "outputs": [
    {
     "data": {
      "application/vnd.jupyter.widget-view+json": {
       "model_id": "d96e204364384dc9b82c0bba10e49968",
       "version_major": 2,
       "version_minor": 0
      },
      "text/plain": [
       "VBox()"
      ]
     },
     "metadata": {},
     "output_type": "display_data"
    },
    {
     "data": {
      "application/vnd.jupyter.widget-view+json": {
       "model_id": "",
       "version_major": 2,
       "version_minor": 0
      },
      "text/plain": [
       "FloatProgress(value=0.0, bar_style='info', description='Progress:', layout=Layout(height='25px', width='50%'),…"
      ]
     },
     "metadata": {},
     "output_type": "display_data"
    }
   ],
   "source": [
    "strt_time = time.time()\n",
    "user_id = [[17]]\n",
    "# convert this into a dataframe so that it can be passed into the recommendForUserSubset\n",
    "df = sc.parallelize(user_id).toDF(['new_userId'])\n",
    "u = cvModel.stages[0].recommendForUserSubset(df, 5).rdd.collect()\n",
    "end_time = time.time()"
   ]
  },
  {
   "cell_type": "code",
   "execution_count": 13,
   "id": "silver-contents",
   "metadata": {},
   "outputs": [
    {
     "data": {
      "application/vnd.jupyter.widget-view+json": {
       "model_id": "b2cffc6fcc9345a9828691bbb9864254",
       "version_major": 2,
       "version_minor": 0
      },
      "text/plain": [
       "VBox()"
      ]
     },
     "metadata": {},
     "output_type": "display_data"
    },
    {
     "data": {
      "application/vnd.jupyter.widget-view+json": {
       "model_id": "",
       "version_major": 2,
       "version_minor": 0
      },
      "text/plain": [
       "FloatProgress(value=0.0, bar_style='info', description='Progress:', layout=Layout(height='25px', width='50%'),…"
      ]
     },
     "metadata": {},
     "output_type": "display_data"
    },
    {
     "name": "stdout",
     "output_type": "stream",
     "text": [
      "-32.22424364089966"
     ]
    }
   ],
   "source": [
    "strt_time - end_time"
   ]
  },
  {
   "cell_type": "code",
   "execution_count": 11,
   "id": "demographic-baghdad",
   "metadata": {},
   "outputs": [
    {
     "data": {
      "application/vnd.jupyter.widget-view+json": {
       "model_id": "2bcec129f68947ebaa330f404b1f127a",
       "version_major": 2,
       "version_minor": 0
      },
      "text/plain": [
       "VBox()"
      ]
     },
     "metadata": {},
     "output_type": "display_data"
    },
    {
     "data": {
      "application/vnd.jupyter.widget-view+json": {
       "model_id": "",
       "version_major": 2,
       "version_minor": 0
      },
      "text/plain": [
       "FloatProgress(value=0.0, bar_style='info', description='Progress:', layout=Layout(height='25px', width='50%'),…"
      ]
     },
     "metadata": {},
     "output_type": "display_data"
    },
    {
     "name": "stdout",
     "output_type": "stream",
     "text": [
      "[Row(new_userId=17, recommendations=[Row(new_songId=172782, rating=40.726383209228516), Row(new_songId=300785, rating=39.22613525390625), Row(new_songId=12525, rating=37.18057632446289), Row(new_songId=249444, rating=29.71829605102539), Row(new_songId=79105, rating=26.729434967041016)])]"
     ]
    }
   ],
   "source": [
    "u"
   ]
  },
  {
   "cell_type": "code",
   "execution_count": 19,
   "id": "random-spending",
   "metadata": {},
   "outputs": [
    {
     "data": {
      "application/vnd.jupyter.widget-view+json": {
       "model_id": "a2af6e0a53a54baaaa1e9dabaa1e5755",
       "version_major": 2,
       "version_minor": 0
      },
      "text/plain": [
       "VBox()"
      ]
     },
     "metadata": {},
     "output_type": "display_data"
    },
    {
     "data": {
      "application/vnd.jupyter.widget-view+json": {
       "model_id": "",
       "version_major": 2,
       "version_minor": 0
      },
      "text/plain": [
       "FloatProgress(value=0.0, bar_style='info', description='Progress:', layout=Layout(height='25px', width='50%'),…"
      ]
     },
     "metadata": {},
     "output_type": "display_data"
    },
    {
     "name": "stdout",
     "output_type": "stream",
     "text": [
      "['__class__', '__del__', '__delattr__', '__dict__', '__dir__', '__doc__', '__eq__', '__format__', '__ge__', '__getattribute__', '__gt__', '__hash__', '__init__', '__init_subclass__', '__le__', '__lt__', '__metaclass__', '__module__', '__ne__', '__new__', '__reduce__', '__reduce_ex__', '__repr__', '__setattr__', '__sizeof__', '__slotnames__', '__str__', '__subclasshook__', '__weakref__', '_call_java', '_clear', '_copyValues', '_copy_params', '_create_from_java_class', '_create_model', '_create_params_from_java', '_defaultParamMap', '_dummy', '_empty_java_param_map', '_fit', '_fit_java', '_from_java', '_input_kwargs', '_java_obj', '_make_java_param_pair', '_new_java_array', '_new_java_obj', '_paramMap', '_params', '_randomUID', '_resetUid', '_resolveParam', '_set', '_setDefault', '_shouldOwn', '_to_java', '_transfer_param_map_from_java', '_transfer_param_map_to_java', '_transfer_params_from_java', '_transfer_params_to_java', 'alpha', 'checkpointInterval', 'coldStartStrategy', 'copy', 'explainParam', 'explainParams', 'extractParamMap', 'finalStorageLevel', 'fit', 'fitMultiple', 'getAlpha', 'getCheckpointInterval', 'getColdStartStrategy', 'getFinalStorageLevel', 'getImplicitPrefs', 'getIntermediateStorageLevel', 'getItemCol', 'getMaxIter', 'getNonnegative', 'getNumItemBlocks', 'getNumUserBlocks', 'getOrDefault', 'getParam', 'getPredictionCol', 'getRank', 'getRatingCol', 'getRegParam', 'getSeed', 'getUserCol', 'hasDefault', 'hasParam', 'implicitPrefs', 'intermediateStorageLevel', 'isDefined', 'isSet', 'itemCol', 'load', 'maxIter', 'nonnegative', 'numItemBlocks', 'numUserBlocks', 'params', 'predictionCol', 'rank', 'ratingCol', 'read', 'regParam', 'save', 'seed', 'set', 'setAlpha', 'setCheckpointInterval', 'setColdStartStrategy', 'setFinalStorageLevel', 'setImplicitPrefs', 'setIntermediateStorageLevel', 'setItemCol', 'setMaxIter', 'setNonnegative', 'setNumBlocks', 'setNumItemBlocks', 'setNumUserBlocks', 'setParams', 'setPredictionCol', 'setRank', 'setRatingCol', 'setRegParam', 'setSeed', 'setUserCol', 'uid', 'userCol', 'write']"
     ]
    }
   ],
   "source": [
    "dir(ALS())"
   ]
  },
  {
   "cell_type": "code",
   "execution_count": null,
   "id": "light-gates",
   "metadata": {},
   "outputs": [],
   "source": []
  }
 ],
 "metadata": {
  "kernelspec": {
   "display_name": "PySpark",
   "language": "",
   "name": "pysparkkernel"
  },
  "language_info": {
   "codemirror_mode": {
    "name": "python",
    "version": 2
   },
   "mimetype": "text/x-python",
   "name": "pyspark",
   "pygments_lexer": "python2"
  }
 },
 "nbformat": 4,
 "nbformat_minor": 5
}
