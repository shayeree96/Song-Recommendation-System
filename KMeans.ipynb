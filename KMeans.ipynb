{
 "cells": [
  {
   "cell_type": "code",
   "execution_count": 1,
   "id": "short-leather",
   "metadata": {},
   "outputs": [
    {
     "data": {
      "application/vnd.jupyter.widget-view+json": {
       "model_id": "51c3602733754e1fbd4738be8cc62918",
       "version_major": 2,
       "version_minor": 0
      },
      "text/plain": [
       "VBox()"
      ]
     },
     "metadata": {},
     "output_type": "display_data"
    },
    {
     "name": "stdout",
     "output_type": "stream",
     "text": [
      "Starting Spark application\n"
     ]
    },
    {
     "data": {
      "text/html": [
       "<table>\n",
       "<tr><th>ID</th><th>YARN Application ID</th><th>Kind</th><th>State</th><th>Spark UI</th><th>Driver log</th><th>Current session?</th></tr><tr><td>0</td><td>application_1617155652825_0001</td><td>pyspark</td><td>idle</td><td><a target=\"_blank\" href=\"http://ip-172-31-83-172.ec2.internal:20888/proxy/application_1617155652825_0001/\">Link</a></td><td><a target=\"_blank\" href=\"http://ip-172-31-84-248.ec2.internal:8042/node/containerlogs/container_1617155652825_0001_01_000001/livy\">Link</a></td><td>✔</td></tr></table>"
      ],
      "text/plain": [
       "<IPython.core.display.HTML object>"
      ]
     },
     "metadata": {},
     "output_type": "display_data"
    },
    {
     "data": {
      "application/vnd.jupyter.widget-view+json": {
       "model_id": "",
       "version_major": 2,
       "version_minor": 0
      },
      "text/plain": [
       "FloatProgress(value=0.0, bar_style='info', description='Progress:', layout=Layout(height='25px', width='50%'),…"
      ]
     },
     "metadata": {},
     "output_type": "display_data"
    },
    {
     "name": "stdout",
     "output_type": "stream",
     "text": [
      "SparkSession available as 'spark'.\n"
     ]
    },
    {
     "data": {
      "application/vnd.jupyter.widget-view+json": {
       "model_id": "",
       "version_major": 2,
       "version_minor": 0
      },
      "text/plain": [
       "FloatProgress(value=0.0, bar_style='info', description='Progress:', layout=Layout(height='25px', width='50%'),…"
      ]
     },
     "metadata": {},
     "output_type": "display_data"
    },
    {
     "name": "stdout",
     "output_type": "stream",
     "text": [
      "Collecting h5py\n",
      "  Downloading h5py-3.1.0-cp36-cp36m-manylinux1_x86_64.whl (4.0 MB)\n",
      "Requirement already satisfied: numpy>=1.12 in /usr/local/lib64/python3.6/site-packages (from h5py) (1.14.5)\n",
      "Collecting cached-property\n",
      "  Downloading cached_property-1.5.2-py2.py3-none-any.whl (7.6 kB)\n",
      "Installing collected packages: cached-property, h5py\n",
      "Successfully installed cached-property-1.5.2 h5py-3.1.0\n",
      "\n",
      "Collecting s3fs\n",
      "  Downloading s3fs-0.5.1-py3-none-any.whl (21 kB)\n",
      "Collecting fsspec>=0.8.0\n",
      "  Downloading fsspec-0.8.7-py3-none-any.whl (103 kB)\n",
      "Collecting aiobotocore>=1.0.1\n",
      "  Downloading aiobotocore-1.2.2.tar.gz (48 kB)\n",
      "Collecting botocore<1.19.53,>=1.19.52\n",
      "  Downloading botocore-1.19.52-py2.py3-none-any.whl (7.2 MB)\n",
      "Collecting aiohttp>=3.3.1\n",
      "  Downloading aiohttp-3.7.4.post0-cp36-cp36m-manylinux2014_x86_64.whl (1.3 MB)\n",
      "Requirement already satisfied: wrapt>=1.10.10 in /usr/local/lib64/python3.6/site-packages (from aiobotocore>=1.0.1->s3fs) (1.11.2)\n",
      "Collecting aioitertools>=0.5.1\n",
      "  Downloading aioitertools-0.7.1-py3-none-any.whl (20 kB)\n",
      "Collecting multidict<7.0,>=4.5\n",
      "  Downloading multidict-5.1.0-cp36-cp36m-manylinux2014_x86_64.whl (141 kB)\n",
      "Collecting yarl<2.0,>=1.0\n",
      "  Downloading yarl-1.6.3-cp36-cp36m-manylinux2014_x86_64.whl (293 kB)\n",
      "Collecting chardet<5.0,>=2.0\n",
      "  Downloading chardet-4.0.0-py2.py3-none-any.whl (178 kB)\n",
      "Collecting typing-extensions>=3.6.5\n",
      "  Downloading typing_extensions-3.7.4.3-py3-none-any.whl (22 kB)\n",
      "Collecting async-timeout<4.0,>=3.0\n",
      "  Downloading async_timeout-3.0.1-py3-none-any.whl (8.2 kB)\n",
      "Collecting attrs>=17.3.0\n",
      "  Downloading attrs-20.3.0-py2.py3-none-any.whl (49 kB)\n",
      "Collecting idna-ssl>=1.0\n",
      "  Downloading idna-ssl-1.1.0.tar.gz (3.4 kB)\n",
      "Requirement already satisfied: jmespath<1.0.0,>=0.7.1 in /usr/local/lib/python3.6/site-packages (from botocore<1.19.53,>=1.19.52->aiobotocore>=1.0.1->s3fs) (0.9.4)\n",
      "Collecting urllib3<1.27,>=1.25.4\n",
      "  Downloading urllib3-1.26.4-py2.py3-none-any.whl (153 kB)\n",
      "Collecting python-dateutil<3.0.0,>=2.1\n",
      "  Downloading python_dateutil-2.8.1-py2.py3-none-any.whl (227 kB)\n",
      "Collecting importlib-metadata\n",
      "  Downloading importlib_metadata-3.10.0-py3-none-any.whl (14 kB)\n",
      "Collecting idna>=2.0\n",
      "  Downloading idna-3.1-py3-none-any.whl (58 kB)\n",
      "Requirement already satisfied: six>=1.5 in /usr/local/lib/python3.6/site-packages (from python-dateutil<3.0.0,>=2.1->botocore<1.19.53,>=1.19.52->aiobotocore>=1.0.1->s3fs) (1.12.0)\n",
      "Collecting zipp>=0.5\n",
      "  Downloading zipp-3.4.1-py3-none-any.whl (5.2 kB)\n",
      "Building wheels for collected packages: aiobotocore, idna-ssl\n",
      "  Building wheel for aiobotocore (setup.py): started\n",
      "  Building wheel for aiobotocore (setup.py): finished with status 'done'\n",
      "  Created wheel for aiobotocore: filename=aiobotocore-1.2.2-py3-none-any.whl size=45730 sha256=06768e462e4284c73878e587bfe8a65a5342904052267f5d9b60d34626960870\n",
      "  Stored in directory: /mnt/var/lib/livy/.cache/pip/wheels/37/f3/76/dfc2d32494696a7e4710b2f57d9d15212226d19c42dc395865\n",
      "  Building wheel for idna-ssl (setup.py): started\n",
      "  Building wheel for idna-ssl (setup.py): finished with status 'done'\n",
      "  Created wheel for idna-ssl: filename=idna_ssl-1.1.0-py3-none-any.whl size=3160 sha256=bac602afb0a1af699037e160c4cb1d107abe049d1e3638dae7105a75b5519c22\n",
      "  Stored in directory: /mnt/var/lib/livy/.cache/pip/wheels/6a/f5/9c/f8331a854f7a8739cf0e74c13854e4dd7b1af11b04fe1dde13\n",
      "Successfully built aiobotocore idna-ssl\n",
      "Installing collected packages: typing-extensions, multidict, idna, zipp, yarl, urllib3, python-dateutil, idna-ssl, chardet, attrs, async-timeout, importlib-metadata, botocore, aioitertools, aiohttp, fsspec, aiobotocore, s3fs\n",
      "Successfully installed aiobotocore-1.2.2 aiohttp-3.7.4.post0 aioitertools-0.7.1 async-timeout-3.0.1 attrs-20.3.0 botocore-1.19.52 chardet-4.0.0 fsspec-0.8.7 idna-3.1 idna-ssl-1.1.0 importlib-metadata-3.10.0 multidict-5.1.0 python-dateutil-2.8.1 s3fs-0.5.1 typing-extensions-3.7.4.3 urllib3-1.26.4 yarl-1.6.3 zipp-3.4.1\n",
      "\n",
      "Collecting boto3\n",
      "  Downloading boto3-1.17.41-py2.py3-none-any.whl (131 kB)\n",
      "Collecting botocore<1.21.0,>=1.20.41\n",
      "  Downloading botocore-1.20.41-py2.py3-none-any.whl (7.4 MB)\n",
      "Collecting s3transfer<0.4.0,>=0.3.0\n",
      "  Downloading s3transfer-0.3.6-py2.py3-none-any.whl (73 kB)\n",
      "Requirement already satisfied: jmespath<1.0.0,>=0.7.1 in /usr/local/lib/python3.6/site-packages (from boto3) (0.9.4)\n",
      "Requirement already satisfied: urllib3<1.27,>=1.25.4 in /mnt/tmp/1617156197590-0/lib/python3.6/site-packages (from botocore<1.21.0,>=1.20.41->boto3) (1.26.4)\n",
      "Requirement already satisfied: python-dateutil<3.0.0,>=2.1 in /mnt/tmp/1617156197590-0/lib/python3.6/site-packages (from botocore<1.21.0,>=1.20.41->boto3) (2.8.1)\n",
      "Requirement already satisfied: six>=1.5 in /usr/local/lib/python3.6/site-packages (from python-dateutil<3.0.0,>=2.1->botocore<1.21.0,>=1.20.41->boto3) (1.12.0)\n",
      "Installing collected packages: botocore, s3transfer, boto3\n",
      "  Attempting uninstall: botocore\n",
      "    Found existing installation: botocore 1.19.52\n",
      "    Uninstalling botocore-1.19.52:\n",
      "      Successfully uninstalled botocore-1.19.52\n",
      "Successfully installed boto3-1.17.41 botocore-1.20.41 s3transfer-0.3.6\n",
      "\n",
      "\n",
      "\n",
      "ERROR: pip's dependency resolver does not currently take into account all the packages that are installed. This behaviour is the source of the following dependency conflicts.\n",
      "aiobotocore 1.2.2 requires botocore<1.19.53,>=1.19.52, but you have botocore 1.20.41 which is incompatible."
     ]
    }
   ],
   "source": [
    "sc.install_pypi_package(\"h5py\")\n",
    "sc.install_pypi_package(\"s3fs\")\n",
    "sc.install_pypi_package(\"boto3\")"
   ]
  },
  {
   "cell_type": "code",
   "execution_count": 1,
   "id": "welcome-bulgarian",
   "metadata": {},
   "outputs": [
    {
     "data": {
      "application/vnd.jupyter.widget-view+json": {
       "model_id": "df92bbbc8ca64d7da3e3f564a743e6e2",
       "version_major": 2,
       "version_minor": 0
      },
      "text/plain": [
       "VBox()"
      ]
     },
     "metadata": {},
     "output_type": "display_data"
    },
    {
     "name": "stdout",
     "output_type": "stream",
     "text": [
      "Starting Spark application\n"
     ]
    },
    {
     "data": {
      "text/html": [
       "<table>\n",
       "<tr><th>ID</th><th>YARN Application ID</th><th>Kind</th><th>State</th><th>Spark UI</th><th>Driver log</th><th>Current session?</th></tr><tr><td>5</td><td>application_1617185507602_0006</td><td>pyspark</td><td>idle</td><td><a target=\"_blank\" href=\"http://ip-172-31-89-69.ec2.internal:20888/proxy/application_1617185507602_0006/\">Link</a></td><td><a target=\"_blank\" href=\"http://ip-172-31-88-18.ec2.internal:8042/node/containerlogs/container_1617185507602_0006_01_000001/livy\">Link</a></td><td>✔</td></tr></table>"
      ],
      "text/plain": [
       "<IPython.core.display.HTML object>"
      ]
     },
     "metadata": {},
     "output_type": "display_data"
    },
    {
     "data": {
      "application/vnd.jupyter.widget-view+json": {
       "model_id": "",
       "version_major": 2,
       "version_minor": 0
      },
      "text/plain": [
       "FloatProgress(value=0.0, bar_style='info', description='Progress:', layout=Layout(height='25px', width='50%'),…"
      ]
     },
     "metadata": {},
     "output_type": "display_data"
    },
    {
     "name": "stdout",
     "output_type": "stream",
     "text": [
      "SparkSession available as 'spark'.\n"
     ]
    },
    {
     "data": {
      "application/vnd.jupyter.widget-view+json": {
       "model_id": "",
       "version_major": 2,
       "version_minor": 0
      },
      "text/plain": [
       "FloatProgress(value=0.0, bar_style='info', description='Progress:', layout=Layout(height='25px', width='50%'),…"
      ]
     },
     "metadata": {},
     "output_type": "display_data"
    }
   ],
   "source": [
    "# import s3fs\n",
    "# import io\n",
    "# import h5py\n",
    "# import boto\n",
    "import numpy as np"
   ]
  },
  {
   "cell_type": "code",
   "execution_count": 2,
   "id": "unexpected-vegetation",
   "metadata": {},
   "outputs": [
    {
     "data": {
      "application/vnd.jupyter.widget-view+json": {
       "model_id": "0959ed63c64644659f0a02305209b0ca",
       "version_major": 2,
       "version_minor": 0
      },
      "text/plain": [
       "VBox()"
      ]
     },
     "metadata": {},
     "output_type": "display_data"
    },
    {
     "data": {
      "application/vnd.jupyter.widget-view+json": {
       "model_id": "",
       "version_major": 2,
       "version_minor": 0
      },
      "text/plain": [
       "FloatProgress(value=0.0, bar_style='info', description='Progress:', layout=Layout(height='25px', width='50%'),…"
      ]
     },
     "metadata": {},
     "output_type": "display_data"
    }
   ],
   "source": [
    "parDF1=spark.read.parquet(\"s3://17700project/song_features.parquet\")"
   ]
  },
  {
   "cell_type": "code",
   "execution_count": 3,
   "id": "experienced-characterization",
   "metadata": {},
   "outputs": [
    {
     "data": {
      "application/vnd.jupyter.widget-view+json": {
       "model_id": "6dccdbe1e7db49fba633ac2f94f7ef0f",
       "version_major": 2,
       "version_minor": 0
      },
      "text/plain": [
       "VBox()"
      ]
     },
     "metadata": {},
     "output_type": "display_data"
    },
    {
     "data": {
      "application/vnd.jupyter.widget-view+json": {
       "model_id": "",
       "version_major": 2,
       "version_minor": 0
      },
      "text/plain": [
       "FloatProgress(value=0.0, bar_style='info', description='Progress:', layout=Layout(height='25px', width='50%'),…"
      ]
     },
     "metadata": {},
     "output_type": "display_data"
    },
    {
     "name": "stdout",
     "output_type": "stream",
     "text": [
      "DataFrame[analysis_sample_rate: bigint, audio_md5: string, danceability: double, duration: double, end_of_fade_in: double, energy: double, idx_bars_confidence: bigint, idx_bars_start: bigint, idx_beats_confidence: bigint, idx_beats_start: bigint, idx_sections_confidence: bigint, idx_sections_start: bigint, idx_segments_confidence: bigint, idx_segments_loudness_max: bigint, idx_segments_loudness_max_time: bigint, idx_segments_loudness_start: bigint, idx_segments_pitches: bigint, idx_segments_start: bigint, idx_segments_timbre: bigint, idx_tatums_confidence: bigint, idx_tatums_start: bigint, key: bigint, key_confidence: double, loudness: double, mode: bigint, mode_confidence: double, start_of_fade_out: double, tempo: double, time_signature: bigint, time_signature_confidence: double, track_id: string, analyzer_version: string, artist_7digitalid: bigint, artist_familiarity: double, artist_hotttnesss: double, artist_id: string, artist_latitude: double, artist_location: string, artist_longitude: double, artist_mbid: string, artist_name: string, artist_playmeid: bigint, genre: string, idx_artist_terms: bigint, idx_similar_artists: bigint, release: string, release_7digitalid: bigint, song_hotttnesss: double, song_id: string, title: string, track_7digitalid: bigint, idx_artist_mbtags: bigint, year: bigint]"
     ]
    }
   ],
   "source": [
    "parDF1.cache()"
   ]
  },
  {
   "cell_type": "code",
   "execution_count": 4,
   "id": "developing-sheet",
   "metadata": {},
   "outputs": [
    {
     "data": {
      "application/vnd.jupyter.widget-view+json": {
       "model_id": "59acb2ea16e648a9b8a59e0d1a92f164",
       "version_major": 2,
       "version_minor": 0
      },
      "text/plain": [
       "VBox()"
      ]
     },
     "metadata": {},
     "output_type": "display_data"
    },
    {
     "data": {
      "application/vnd.jupyter.widget-view+json": {
       "model_id": "",
       "version_major": 2,
       "version_minor": 0
      },
      "text/plain": [
       "FloatProgress(value=0.0, bar_style='info', description='Progress:', layout=Layout(height='25px', width='50%'),…"
      ]
     },
     "metadata": {},
     "output_type": "display_data"
    },
    {
     "name": "stdout",
     "output_type": "stream",
     "text": [
      "1000000"
     ]
    }
   ],
   "source": [
    "parDF1.count()"
   ]
  },
  {
   "cell_type": "markdown",
   "id": "critical-computer",
   "metadata": {},
   "source": [
    "Reference Repo : https://github.com/RohanBhirangi/Million-Song-Dataset-Analysis"
   ]
  },
  {
   "cell_type": "markdown",
   "id": "critical-rabbit",
   "metadata": {},
   "source": [
    "##Feature Engineering :\n",
    "\n",
    "We only considered the following features for our use : TrackID, Artist name, Artist location, User play count, Genre, Lyrics, Mode (major/minor), Song Duration, Song Loudness, Song hotness, Artist hotness, Tempo (in bpm), Time Signature and Time Signature Confidence. As some of these features were available across different dataframes, they had to be joined together to a single dataframe. Additionally, rows with a time signature confidence threshold less than 0.5 had to be dropped because they were filled with garbage values which was not accurate. Another feature “Speed” had to be calculated from each tracks’ tempo and time signature by calculating the number of beats per measure rather than the number of beats per time (tempo). This is done to normalize how “fast” a song sounds to human ears. Natural Language Processing techniques like standardizing (removing non-english and other irrelevant characters) and stop word removal (remove frequent meaningless words like ‘I’, ‘the’, ‘a’, etc.) were also done on the lyrics to preserve only the words with actual meaning."
   ]
  },
  {
   "cell_type": "markdown",
   "id": "demanding-inclusion",
   "metadata": {},
   "source": [
    "## Song Recommender System :\n",
    "We wanted to build a system to recommend new songs to a user based on his tastes and listening history. The traditional approach of collaborative filtering was discarded because we do not have a metric of user ratings (only play counts) and song features would not be used in this case. To solve this problem, we used a clustering technique (k-means) in order to group songs together, which would incorporate song features as well as reduce the search space while recommending new songs. The model was trained on the following features : mode, duration, loudness, genre, speed and hotness. Each of the features had to be cleaned to remove false outliers and then min-max normalized (scaled) to a value between 1 and 5. The optimal number of clusters was found by calculating the sum of square errors within each cluster for different values of k. The optimal value was found to be 7. We now look at the user history and retrieve his/her 5 most played songs. For each of these, we search within the corresponding cluster for the 3 most similar songs. The similarity measure used is the Manhattan distance between scaled features. The 15 obtained results are ranked based on the user’s favorite genres and similarity scores provided for each. Limitations for the above approach include that it is not suitable for dynamic data (retraining the model) and that there is no objective way to measure performance.\n"
   ]
  },
  {
   "cell_type": "code",
   "execution_count": 5,
   "id": "peripheral-shelf",
   "metadata": {},
   "outputs": [
    {
     "data": {
      "application/vnd.jupyter.widget-view+json": {
       "model_id": "fa3c5ebc057049988206ddbd511d02c7",
       "version_major": 2,
       "version_minor": 0
      },
      "text/plain": [
       "VBox()"
      ]
     },
     "metadata": {},
     "output_type": "display_data"
    },
    {
     "data": {
      "application/vnd.jupyter.widget-view+json": {
       "model_id": "",
       "version_major": 2,
       "version_minor": 0
      },
      "text/plain": [
       "FloatProgress(value=0.0, bar_style='info', description='Progress:', layout=Layout(height='25px', width='50%'),…"
      ]
     },
     "metadata": {},
     "output_type": "display_data"
    }
   ],
   "source": [
    "from pyspark.ml.linalg import DenseVector#Shayeree's addition\n",
    "from pyspark.ml.clustering import KMeans\n",
    "from pyspark.ml.evaluation import ClusteringEvaluator\n",
    "from pyspark.ml.clustering import BisectingKMeans\n",
    "from pyspark.sql.functions import lit\n",
    "from  pyspark.sql.functions import abs\n",
    "from pyspark.sql import Row\n",
    "from pyspark.ml.linalg import Vectors\n",
    "from pyspark.sql import functions as F"
   ]
  },
  {
   "cell_type": "code",
   "execution_count": 6,
   "id": "boxed-survivor",
   "metadata": {},
   "outputs": [
    {
     "data": {
      "application/vnd.jupyter.widget-view+json": {
       "model_id": "2e1e9283e5c54e2d8cd9dd95ba9e4b82",
       "version_major": 2,
       "version_minor": 0
      },
      "text/plain": [
       "VBox()"
      ]
     },
     "metadata": {},
     "output_type": "display_data"
    },
    {
     "data": {
      "application/vnd.jupyter.widget-view+json": {
       "model_id": "",
       "version_major": 2,
       "version_minor": 0
      },
      "text/plain": [
       "FloatProgress(value=0.0, bar_style='info', description='Progress:', layout=Layout(height='25px', width='50%'),…"
      ]
     },
     "metadata": {},
     "output_type": "display_data"
    },
    {
     "name": "stdout",
     "output_type": "stream",
     "text": [
      "+--------------------+--------------------+------------+---------+--------------+------+-------------------+--------------+--------------------+---------------+-----------------------+------------------+-----------------------+-------------------------+------------------------------+---------------------------+--------------------+------------------+-------------------+---------------------+----------------+---+--------------+--------+----+---------------+-----------------+------+--------------+-------------------------+--------------------+----------------+-----------------+------------------+------------------+--------------------+---------------+---------------+----------------+--------------------+-----------+---------------+-----+----------------+-------------------+--------------------+------------------+------------------+--------------------+----------+----------------+-----------------+----+\n",
      "|analysis_sample_rate|           audio_md5|danceability| duration|end_of_fade_in|energy|idx_bars_confidence|idx_bars_start|idx_beats_confidence|idx_beats_start|idx_sections_confidence|idx_sections_start|idx_segments_confidence|idx_segments_loudness_max|idx_segments_loudness_max_time|idx_segments_loudness_start|idx_segments_pitches|idx_segments_start|idx_segments_timbre|idx_tatums_confidence|idx_tatums_start|key|key_confidence|loudness|mode|mode_confidence|start_of_fade_out| tempo|time_signature|time_signature_confidence|            track_id|analyzer_version|artist_7digitalid|artist_familiarity| artist_hotttnesss|           artist_id|artist_latitude|artist_location|artist_longitude|         artist_mbid|artist_name|artist_playmeid|genre|idx_artist_terms|idx_similar_artists|             release|release_7digitalid|   song_hotttnesss|             song_id|     title|track_7digitalid|idx_artist_mbtags|year|\n",
      "+--------------------+--------------------+------------+---------+--------------+------+-------------------+--------------+--------------------+---------------+-----------------------+------------------+-----------------------+-------------------------+------------------------------+---------------------------+--------------------+------------------+-------------------+---------------------+----------------+---+--------------+--------+----+---------------+-----------------+------+--------------+-------------------------+--------------------+----------------+-----------------+------------------+------------------+--------------------+---------------+---------------+----------------+--------------------+-----------+---------------+-----+----------------+-------------------+--------------------+------------------+------------------+--------------------+----------+----------------+-----------------+----+\n",
      "|               22050|b'ae240a5889d9302...|         0.0|209.08363|           0.0|   0.0|                  0|             0|                   0|              0|                      0|                 0|                      0|                        0|                             0|                          0|                   0|                 0|                  0|                    0|               0|  5|         0.614|  -4.055|   0|           0.61|          206.843|84.977|             4|                    0.799|b'TRHOBQV128F1495...|             b''|            39050|0.8450451473124911|0.5865831757223228|b'ARD66TF1187B9A1...|            NaN|   b'Nashville'|             NaN|b'8484e4ab-b6b5-4...| b'tobyMac'|           5678|  b''|               0|                  0|b'Double Take - t...|             53473|0.5206894068906976|b'SOMLEUP12A6D4F8...|b'Ill-M-I'|          557181|                0|2004|\n",
      "+--------------------+--------------------+------------+---------+--------------+------+-------------------+--------------+--------------------+---------------+-----------------------+------------------+-----------------------+-------------------------+------------------------------+---------------------------+--------------------+------------------+-------------------+---------------------+----------------+---+--------------+--------+----+---------------+-----------------+------+--------------+-------------------------+--------------------+----------------+-----------------+------------------+------------------+--------------------+---------------+---------------+----------------+--------------------+-----------+---------------+-----+----------------+-------------------+--------------------+------------------+------------------+--------------------+----------+----------------+-----------------+----+\n",
      "only showing top 1 row"
     ]
    }
   ],
   "source": [
    "msdf2 =parDF1.withColumn(\"time_signature\", F.when(parDF1.time_signature_confidence<0.5, 4).otherwise(parDF1.time_signature))\n",
    "msdf2.show(1)"
   ]
  },
  {
   "cell_type": "code",
   "execution_count": 7,
   "id": "collective-endorsement",
   "metadata": {},
   "outputs": [
    {
     "data": {
      "application/vnd.jupyter.widget-view+json": {
       "model_id": "d30cbc016cfd4148a5d4bf8109b5ea4e",
       "version_major": 2,
       "version_minor": 0
      },
      "text/plain": [
       "VBox()"
      ]
     },
     "metadata": {},
     "output_type": "display_data"
    },
    {
     "data": {
      "application/vnd.jupyter.widget-view+json": {
       "model_id": "",
       "version_major": 2,
       "version_minor": 0
      },
      "text/plain": [
       "FloatProgress(value=0.0, bar_style='info', description='Progress:', layout=Layout(height='25px', width='50%'),…"
      ]
     },
     "metadata": {},
     "output_type": "display_data"
    }
   ],
   "source": [
    "selected_numerical_features = ['duration', 'end_of_fade_in', 'key', 'key_confidence', 'loudness', 'mode', 'mode_confidence',\\\n",
    "                               'start_of_fade_out', 'tempo', 'time_signature', 'time_signature_confidence']\n",
    "msdf3 = msdf2.select(msdf2.duration, msdf2.end_of_fade_in, msdf2.key,msdf2.key_confidence,msdf2.mode, msdf2.mode_confidence,msdf2.loudness,msdf2.start_of_fade_out, msdf2.time_signature_confidence,msdf2.artist_hotttnesss,msdf2.time_signature.alias(\"speed\"), msdf2.song_id)\n",
    "#msdf4 = msdf3.na.drop()"
   ]
  },
  {
   "cell_type": "code",
   "execution_count": 8,
   "id": "numerous-george",
   "metadata": {},
   "outputs": [
    {
     "data": {
      "application/vnd.jupyter.widget-view+json": {
       "model_id": "bad676faefd24a019c1c7f9cfccb9500",
       "version_major": 2,
       "version_minor": 0
      },
      "text/plain": [
       "VBox()"
      ]
     },
     "metadata": {},
     "output_type": "display_data"
    },
    {
     "data": {
      "application/vnd.jupyter.widget-view+json": {
       "model_id": "",
       "version_major": 2,
       "version_minor": 0
      },
      "text/plain": [
       "FloatProgress(value=0.0, bar_style='info', description='Progress:', layout=Layout(height='25px', width='50%'),…"
      ]
     },
     "metadata": {},
     "output_type": "display_data"
    },
    {
     "name": "stdout",
     "output_type": "stream",
     "text": [
      "+---------+--------------+---+--------------+----+---------------+--------+-----------------+-------------------------+------------------+-----+--------------------+\n",
      "| duration|end_of_fade_in|key|key_confidence|mode|mode_confidence|loudness|start_of_fade_out|time_signature_confidence| artist_hotttnesss|speed|             song_id|\n",
      "+---------+--------------+---+--------------+----+---------------+--------+-----------------+-------------------------+------------------+-----+--------------------+\n",
      "|209.08363|           0.0|  5|         0.614|   0|           0.61|  -4.055|          206.843|                    0.799|0.5865831757223228|    4|b'SOMLEUP12A6D4F8...|\n",
      "+---------+--------------+---+--------------+----+---------------+--------+-----------------+-------------------------+------------------+-----+--------------------+\n",
      "only showing top 1 row"
     ]
    }
   ],
   "source": [
    "msdf3.show(1)"
   ]
  },
  {
   "cell_type": "code",
   "execution_count": 9,
   "id": "hollow-parent",
   "metadata": {},
   "outputs": [
    {
     "data": {
      "application/vnd.jupyter.widget-view+json": {
       "model_id": "7eb95152d5e3495d84f0187c9d1e0c96",
       "version_major": 2,
       "version_minor": 0
      },
      "text/plain": [
       "VBox()"
      ]
     },
     "metadata": {},
     "output_type": "display_data"
    },
    {
     "data": {
      "application/vnd.jupyter.widget-view+json": {
       "model_id": "",
       "version_major": 2,
       "version_minor": 0
      },
      "text/plain": [
       "FloatProgress(value=0.0, bar_style='info', description='Progress:', layout=Layout(height='25px', width='50%'),…"
      ]
     },
     "metadata": {},
     "output_type": "display_data"
    }
   ],
   "source": [
    "msdf4 = msdf3.na.drop()"
   ]
  },
  {
   "cell_type": "code",
   "execution_count": 10,
   "id": "automatic-plaza",
   "metadata": {},
   "outputs": [
    {
     "data": {
      "application/vnd.jupyter.widget-view+json": {
       "model_id": "038775a5724b41e09823f5ae42e9f585",
       "version_major": 2,
       "version_minor": 0
      },
      "text/plain": [
       "VBox()"
      ]
     },
     "metadata": {},
     "output_type": "display_data"
    },
    {
     "data": {
      "application/vnd.jupyter.widget-view+json": {
       "model_id": "",
       "version_major": 2,
       "version_minor": 0
      },
      "text/plain": [
       "FloatProgress(value=0.0, bar_style='info', description='Progress:', layout=Layout(height='25px', width='50%'),…"
      ]
     },
     "metadata": {},
     "output_type": "display_data"
    },
    {
     "name": "stdout",
     "output_type": "stream",
     "text": [
      "+---------+--------------+---+--------------+----+---------------+--------+-----------------+-------------------------+-------------------+-----+--------------------+\n",
      "| duration|end_of_fade_in|key|key_confidence|mode|mode_confidence|loudness|start_of_fade_out|time_signature_confidence|  artist_hotttnesss|speed|             song_id|\n",
      "+---------+--------------+---+--------------+----+---------------+--------+-----------------+-------------------------+-------------------+-----+--------------------+\n",
      "|209.08363|           0.0|  5|         0.614|   0|           0.61|  -4.055|          206.843|                    0.799| 0.5865831757223228|    4|b'SOMLEUP12A6D4F8...|\n",
      "|321.20118|         0.235|  5|         0.657|   0|          0.763| -12.303|          310.393|                      0.0| 0.4150033040402988|    4|b'SOMUXIE12A58A76...|\n",
      "|164.44036|         0.233|  4|           0.0|   1|            0.0| -10.726|          156.177|                    0.518|0.38672538144513174|    4|b'SOLUWQY12A8C13E...|\n",
      "|168.22812|         0.984|  2|         0.646|   1|          0.482|  -7.289|          165.494|                    0.662| 0.4112025386410002|    4|b'SOZPMVD12AB0186...|\n",
      "|181.89016|         2.397| 11|           0.0|   1|            0.0| -11.139|          175.409|                    0.477|0.47526330153867236|    4|b'SOVGENV12A8C139...|\n",
      "|232.12363|         1.198|  8|         0.743|   0|          0.537|  -7.692|          219.864|                    0.624|0.38284602293650905|    4|b'SOVSZTZ12A8C144...|\n",
      "|393.61261|         1.111|  5|         0.133|   0|          0.472|  -4.044|          387.094|                    0.162| 0.4286751007005733|    4|b'SOGDSKD12AB0183...|\n",
      "|193.93261|           0.0|  0|         0.338|   1|          0.412|  -9.766|          181.638|                    0.649|0.42053322333799975|    4|b'SOZYAYU12A8C136...|\n",
      "|165.45914|         0.061|  2|          0.06|   1|          0.421| -22.247|          150.343|                      1.0|0.36135720792922654|    4|b'SOFWYQI12AB0188...|\n",
      "|256.93995|           0.0|  2|         0.447|   0|          0.307| -21.239|          246.248|                      0.0| 0.3128941563445553|    4|b'SOPOZXJ12AB0187...|\n",
      "+---------+--------------+---+--------------+----+---------------+--------+-----------------+-------------------------+-------------------+-----+--------------------+\n",
      "only showing top 10 rows"
     ]
    }
   ],
   "source": [
    "msdf4.show(10)"
   ]
  },
  {
   "cell_type": "code",
   "execution_count": 11,
   "id": "bearing-objective",
   "metadata": {},
   "outputs": [
    {
     "data": {
      "application/vnd.jupyter.widget-view+json": {
       "model_id": "d55f087666244f6ea44cfe17a2f84c09",
       "version_major": 2,
       "version_minor": 0
      },
      "text/plain": [
       "VBox()"
      ]
     },
     "metadata": {},
     "output_type": "display_data"
    },
    {
     "data": {
      "application/vnd.jupyter.widget-view+json": {
       "model_id": "",
       "version_major": 2,
       "version_minor": 0
      },
      "text/plain": [
       "FloatProgress(value=0.0, bar_style='info', description='Progress:', layout=Layout(height='25px', width='50%'),…"
      ]
     },
     "metadata": {},
     "output_type": "display_data"
    },
    {
     "name": "stdout",
     "output_type": "stream",
     "text": [
      "+-----------------+\n",
      "|         duration|\n",
      "+-----------------+\n",
      "|1.275187656570644|\n",
      "|1.422973620528607|\n",
      "+-----------------+\n",
      "only showing top 2 rows"
     ]
    }
   ],
   "source": [
    "#With feature scaling\n",
    "scaledRange = lit(4)\n",
    "scaledMin = lit(1)\n",
    "\n",
    "duration_stats = (msdf4.selectExpr(\"min(duration)\",\"max(duration)\")).collect()\n",
    "dMin = duration_stats[0][0]\n",
    "dMax = duration_stats[0][1]\n",
    "msdf4 = (msdf4.withColumn(\"duration\",(msdf4.duration - dMin)/(dMax-dMin)))\n",
    "msdf4= msdf4.withColumn(\"duration\",scaledRange*msdf4.duration + scaledMin)\n",
    "msdf4.select(\"duration\").show(2)"
   ]
  },
  {
   "cell_type": "code",
   "execution_count": 12,
   "id": "identified-panic",
   "metadata": {},
   "outputs": [
    {
     "data": {
      "application/vnd.jupyter.widget-view+json": {
       "model_id": "072db65344144f9a9c8085af61d5fe5b",
       "version_major": 2,
       "version_minor": 0
      },
      "text/plain": [
       "VBox()"
      ]
     },
     "metadata": {},
     "output_type": "display_data"
    },
    {
     "data": {
      "application/vnd.jupyter.widget-view+json": {
       "model_id": "",
       "version_major": 2,
       "version_minor": 0
      },
      "text/plain": [
       "FloatProgress(value=0.0, bar_style='info', description='Progress:', layout=Layout(height='25px', width='50%'),…"
      ]
     },
     "metadata": {},
     "output_type": "display_data"
    },
    {
     "name": "stdout",
     "output_type": "stream",
     "text": [
      "+-----------------+\n",
      "|         loudness|\n",
      "+-----------------+\n",
      "|4.464093701996928|\n",
      "|3.936187916026626|\n",
      "+-----------------+\n",
      "only showing top 2 rows"
     ]
    }
   ],
   "source": [
    "loudness_stats = (msdf4.selectExpr(\"min(loudness)\",\"max(loudness)\")).collect()\n",
    "lMin = loudness_stats[0][0]\n",
    "lMax = loudness_stats[0][1]\n",
    "msdf4= (msdf4.withColumn(\"loudness\",(msdf4.loudness - lMin)/(lMax-lMin)))\n",
    "msdf4 = msdf4.withColumn(\"loudness\",scaledRange*msdf4.loudness + scaledMin)\n",
    "msdf4.select(\"loudness\").show(2)"
   ]
  },
  {
   "cell_type": "code",
   "execution_count": 13,
   "id": "whole-arrival",
   "metadata": {},
   "outputs": [
    {
     "data": {
      "application/vnd.jupyter.widget-view+json": {
       "model_id": "e0342183f4a94fc3ac2d33650f323f65",
       "version_major": 2,
       "version_minor": 0
      },
      "text/plain": [
       "VBox()"
      ]
     },
     "metadata": {},
     "output_type": "display_data"
    },
    {
     "data": {
      "application/vnd.jupyter.widget-view+json": {
       "model_id": "",
       "version_major": 2,
       "version_minor": 0
      },
      "text/plain": [
       "FloatProgress(value=0.0, bar_style='info', description='Progress:', layout=Layout(height='25px', width='50%'),…"
      ]
     },
     "metadata": {},
     "output_type": "display_data"
    },
    {
     "name": "stdout",
     "output_type": "stream",
     "text": [
      "+-----------------+\n",
      "|artist_hotttnesss|\n",
      "+-----------------+\n",
      "| 3.16750777012984|\n",
      "|2.533495884925825|\n",
      "+-----------------+\n",
      "only showing top 2 rows"
     ]
    }
   ],
   "source": [
    "artist_hotttnesss_stats = (msdf4.selectExpr(\"min(artist_hotttnesss)\",\"max(artist_hotttnesss)\")).collect()\n",
    "aMin = artist_hotttnesss_stats[0][0]\n",
    "aMax = artist_hotttnesss_stats[0][1]\n",
    "msdf4 = (msdf4.withColumn(\"artist_hotttnesss\",(msdf4.artist_hotttnesss - aMin)/(aMax-aMin)))\n",
    "msdf4 = msdf4.withColumn(\"artist_hotttnesss\",scaledRange*msdf4.artist_hotttnesss + scaledMin)\n",
    "msdf4.select(\"artist_hotttnesss\").show(2)"
   ]
  },
  {
   "cell_type": "code",
   "execution_count": 14,
   "id": "wrong-agency",
   "metadata": {},
   "outputs": [
    {
     "data": {
      "application/vnd.jupyter.widget-view+json": {
       "model_id": "89e2065a00434c57ac4b34ff89f72fe7",
       "version_major": 2,
       "version_minor": 0
      },
      "text/plain": [
       "VBox()"
      ]
     },
     "metadata": {},
     "output_type": "display_data"
    },
    {
     "data": {
      "application/vnd.jupyter.widget-view+json": {
       "model_id": "",
       "version_major": 2,
       "version_minor": 0
      },
      "text/plain": [
       "FloatProgress(value=0.0, bar_style='info', description='Progress:', layout=Layout(height='25px', width='50%'),…"
      ]
     },
     "metadata": {},
     "output_type": "display_data"
    },
    {
     "name": "stdout",
     "output_type": "stream",
     "text": [
      "+-----+\n",
      "|speed|\n",
      "+-----+\n",
      "|  3.0|\n",
      "|  3.0|\n",
      "+-----+\n",
      "only showing top 2 rows"
     ]
    }
   ],
   "source": [
    "speed_stats = (msdf4.selectExpr(\"min(speed)\",\"max(speed)\")).collect()\n",
    "sMin = speed_stats[0][0]\n",
    "sMax = speed_stats[0][1]\n",
    "msdf4 = (msdf4.withColumn(\"speed\",(msdf4.speed - sMin)/(sMax-sMin)))\n",
    "msdf4 = msdf4.withColumn(\"speed\",scaledRange*msdf4.speed + scaledMin)\n",
    "msdf4.select(\"speed\").show(2)"
   ]
  },
  {
   "cell_type": "code",
   "execution_count": 15,
   "id": "sunset-collaboration",
   "metadata": {},
   "outputs": [
    {
     "data": {
      "application/vnd.jupyter.widget-view+json": {
       "model_id": "a0927179f7324eb39a00a62c8d7fc88a",
       "version_major": 2,
       "version_minor": 0
      },
      "text/plain": [
       "VBox()"
      ]
     },
     "metadata": {},
     "output_type": "display_data"
    },
    {
     "data": {
      "application/vnd.jupyter.widget-view+json": {
       "model_id": "",
       "version_major": 2,
       "version_minor": 0
      },
      "text/plain": [
       "FloatProgress(value=0.0, bar_style='info', description='Progress:', layout=Layout(height='25px', width='50%'),…"
      ]
     },
     "metadata": {},
     "output_type": "display_data"
    },
    {
     "name": "stdout",
     "output_type": "stream",
     "text": [
      "+-----------------+\n",
      "|   end_of_fade_in|\n",
      "+-----------------+\n",
      "|              1.0|\n",
      "|1.000807601072563|\n",
      "+-----------------+\n",
      "only showing top 2 rows"
     ]
    }
   ],
   "source": [
    "fade_stats = (msdf4.selectExpr(\"min(end_of_fade_in)\",\"max(end_of_fade_in)\")).collect()\n",
    "fMin = fade_stats[0][0]\n",
    "fMax = fade_stats[0][1]\n",
    "msdf4 = (msdf4.withColumn(\"end_of_fade_in\",(msdf4.end_of_fade_in - fMin)/(fMax-fMin)))\n",
    "msdf4 = msdf4.withColumn(\"end_of_fade_in\",scaledRange*msdf4.end_of_fade_in + scaledMin)\n",
    "msdf4.select(\"end_of_fade_in\").show(2)"
   ]
  },
  {
   "cell_type": "code",
   "execution_count": 16,
   "id": "fifth-wagon",
   "metadata": {},
   "outputs": [
    {
     "data": {
      "application/vnd.jupyter.widget-view+json": {
       "model_id": "31fe57a4b0ff4f9c9a73c64e09b833a1",
       "version_major": 2,
       "version_minor": 0
      },
      "text/plain": [
       "VBox()"
      ]
     },
     "metadata": {},
     "output_type": "display_data"
    },
    {
     "data": {
      "application/vnd.jupyter.widget-view+json": {
       "model_id": "",
       "version_major": 2,
       "version_minor": 0
      },
      "text/plain": [
       "FloatProgress(value=0.0, bar_style='info', description='Progress:', layout=Layout(height='25px', width='50%'),…"
      ]
     },
     "metadata": {},
     "output_type": "display_data"
    },
    {
     "name": "stdout",
     "output_type": "stream",
     "text": [
      "+------------------+\n",
      "|               key|\n",
      "+------------------+\n",
      "|2.8181818181818183|\n",
      "|2.8181818181818183|\n",
      "+------------------+\n",
      "only showing top 2 rows"
     ]
    }
   ],
   "source": [
    "key_stats = (msdf4.selectExpr(\"min(key)\",\"max(key)\")).collect()\n",
    "kMin = key_stats[0][0]\n",
    "kMax = key_stats[0][1]\n",
    "msdf4 = (msdf4.withColumn(\"key\",(msdf4.key - kMin)/(kMax-kMin)))\n",
    "msdf4 = msdf4.withColumn(\"key\",scaledRange*msdf4.key + scaledMin)\n",
    "msdf4.select(\"key\").show(2)"
   ]
  },
  {
   "cell_type": "code",
   "execution_count": 17,
   "id": "biblical-semester",
   "metadata": {},
   "outputs": [
    {
     "data": {
      "application/vnd.jupyter.widget-view+json": {
       "model_id": "a4e3577593e94fa7885a4dff7777ee91",
       "version_major": 2,
       "version_minor": 0
      },
      "text/plain": [
       "VBox()"
      ]
     },
     "metadata": {},
     "output_type": "display_data"
    },
    {
     "data": {
      "application/vnd.jupyter.widget-view+json": {
       "model_id": "",
       "version_major": 2,
       "version_minor": 0
      },
      "text/plain": [
       "FloatProgress(value=0.0, bar_style='info', description='Progress:', layout=Layout(height='25px', width='50%'),…"
      ]
     },
     "metadata": {},
     "output_type": "display_data"
    },
    {
     "name": "stdout",
     "output_type": "stream",
     "text": [
      "+--------------+\n",
      "|key_confidence|\n",
      "+--------------+\n",
      "|         3.456|\n",
      "|         3.628|\n",
      "+--------------+\n",
      "only showing top 2 rows"
     ]
    }
   ],
   "source": [
    "key_conf_stats = (msdf4.selectExpr(\"min(key_confidence)\",\"max(key_confidence)\")).collect()\n",
    "kcMin = key_conf_stats[0][0]\n",
    "kcMax = key_conf_stats[0][1]\n",
    "msdf4 = (msdf4.withColumn(\"key_confidence\",(msdf4.key_confidence - kcMin)/(kcMax-kcMin)))\n",
    "msdf4 = msdf4.withColumn(\"key_confidence\",scaledRange*msdf4.key_confidence + scaledMin)\n",
    "msdf4.select(\"key_confidence\").show(2)"
   ]
  },
  {
   "cell_type": "code",
   "execution_count": 18,
   "id": "tight-parish",
   "metadata": {},
   "outputs": [
    {
     "data": {
      "application/vnd.jupyter.widget-view+json": {
       "model_id": "2244a8ca02b64cd28b6b63701d3d7e88",
       "version_major": 2,
       "version_minor": 0
      },
      "text/plain": [
       "VBox()"
      ]
     },
     "metadata": {},
     "output_type": "display_data"
    },
    {
     "data": {
      "application/vnd.jupyter.widget-view+json": {
       "model_id": "",
       "version_major": 2,
       "version_minor": 0
      },
      "text/plain": [
       "FloatProgress(value=0.0, bar_style='info', description='Progress:', layout=Layout(height='25px', width='50%'),…"
      ]
     },
     "metadata": {},
     "output_type": "display_data"
    },
    {
     "name": "stdout",
     "output_type": "stream",
     "text": [
      "+----+\n",
      "|mode|\n",
      "+----+\n",
      "| 1.0|\n",
      "| 1.0|\n",
      "+----+\n",
      "only showing top 2 rows"
     ]
    }
   ],
   "source": [
    "m_stats = (msdf4.selectExpr(\"min(mode)\",\"max(mode)\")).collect()\n",
    "mMin = m_stats[0][0]\n",
    "mMax = m_stats[0][1]\n",
    "msdf4 = (msdf4.withColumn(\"mode\",(msdf4.mode - mMin)/(mMax-mMin)))\n",
    "msdf4 = msdf4.withColumn(\"mode\",scaledRange*msdf4.mode + scaledMin)\n",
    "msdf4.select(\"mode\").show(2)"
   ]
  },
  {
   "cell_type": "code",
   "execution_count": 19,
   "id": "civilian-norfolk",
   "metadata": {},
   "outputs": [
    {
     "data": {
      "application/vnd.jupyter.widget-view+json": {
       "model_id": "bb0349340e9548e0aaa4d4bd4c2971ec",
       "version_major": 2,
       "version_minor": 0
      },
      "text/plain": [
       "VBox()"
      ]
     },
     "metadata": {},
     "output_type": "display_data"
    },
    {
     "data": {
      "application/vnd.jupyter.widget-view+json": {
       "model_id": "",
       "version_major": 2,
       "version_minor": 0
      },
      "text/plain": [
       "FloatProgress(value=0.0, bar_style='info', description='Progress:', layout=Layout(height='25px', width='50%'),…"
      ]
     },
     "metadata": {},
     "output_type": "display_data"
    },
    {
     "name": "stdout",
     "output_type": "stream",
     "text": [
      "+---------------+\n",
      "|mode_confidence|\n",
      "+---------------+\n",
      "|            5.0|\n",
      "|            5.0|\n",
      "+---------------+\n",
      "only showing top 2 rows"
     ]
    }
   ],
   "source": [
    "mc_stats = (msdf4.selectExpr(\"min(mode_confidence)\",\"max(mode_confidence)\")).collect()\n",
    "mcMin = mc_stats[0][0]\n",
    "mcMax = mc_stats[0][1]\n",
    "msdf4 = (msdf4.withColumn(\"mode_confidence\",(msdf4.mode - mcMin)/(mcMax-mcMin)))\n",
    "msdf4 = msdf4.withColumn(\"mode_confidence\",scaledRange*msdf4.mode_confidence + scaledMin)\n",
    "msdf4.select(\"mode_confidence\").show(2)"
   ]
  },
  {
   "cell_type": "code",
   "execution_count": 20,
   "id": "million-creek",
   "metadata": {},
   "outputs": [
    {
     "data": {
      "application/vnd.jupyter.widget-view+json": {
       "model_id": "b88c2bebf7c2457d9dd3770b7a11d0c8",
       "version_major": 2,
       "version_minor": 0
      },
      "text/plain": [
       "VBox()"
      ]
     },
     "metadata": {},
     "output_type": "display_data"
    },
    {
     "data": {
      "application/vnd.jupyter.widget-view+json": {
       "model_id": "",
       "version_major": 2,
       "version_minor": 0
      },
      "text/plain": [
       "FloatProgress(value=0.0, bar_style='info', description='Progress:', layout=Layout(height='25px', width='50%'),…"
      ]
     },
     "metadata": {},
     "output_type": "display_data"
    },
    {
     "name": "stdout",
     "output_type": "stream",
     "text": [
      "+------------------+\n",
      "| start_of_fade_out|\n",
      "+------------------+\n",
      "| 1.272619062940446|\n",
      "|1.4093047936695564|\n",
      "+------------------+\n",
      "only showing top 2 rows"
     ]
    }
   ],
   "source": [
    "s_stats = (msdf4.selectExpr(\"min(start_of_fade_out)\",\"max(start_of_fade_out)\")).collect()\n",
    "sMin = s_stats[0][0]\n",
    "sMax = s_stats[0][1]\n",
    "msdf4 = (msdf4.withColumn(\"start_of_fade_out\",(msdf4.start_of_fade_out - sMin)/(sMax-sMin)))\n",
    "msdf4 = msdf4.withColumn(\"start_of_fade_out\",scaledRange*msdf4.start_of_fade_out + scaledMin)\n",
    "msdf4.select(\"start_of_fade_out\").show(2)"
   ]
  },
  {
   "cell_type": "code",
   "execution_count": 21,
   "id": "robust-light",
   "metadata": {},
   "outputs": [
    {
     "data": {
      "application/vnd.jupyter.widget-view+json": {
       "model_id": "69a931f908aa4c6282bcd40aa9a74104",
       "version_major": 2,
       "version_minor": 0
      },
      "text/plain": [
       "VBox()"
      ]
     },
     "metadata": {},
     "output_type": "display_data"
    },
    {
     "data": {
      "application/vnd.jupyter.widget-view+json": {
       "model_id": "",
       "version_major": 2,
       "version_minor": 0
      },
      "text/plain": [
       "FloatProgress(value=0.0, bar_style='info', description='Progress:', layout=Layout(height='25px', width='50%'),…"
      ]
     },
     "metadata": {},
     "output_type": "display_data"
    },
    {
     "name": "stdout",
     "output_type": "stream",
     "text": [
      "+-------------------------+\n",
      "|time_signature_confidence|\n",
      "+-------------------------+\n",
      "|                    4.196|\n",
      "|                      1.0|\n",
      "+-------------------------+\n",
      "only showing top 2 rows"
     ]
    }
   ],
   "source": [
    "ts_stats = (msdf4.selectExpr(\"min(time_signature_confidence)\",\"max(time_signature_confidence)\")).collect()\n",
    "tsMin = ts_stats[0][0]\n",
    "tsMax = ts_stats[0][1]\n",
    "msdf4 = (msdf4.withColumn(\"time_signature_confidence\",(msdf4.time_signature_confidence - tsMin)/(tsMax-tsMin)))\n",
    "msdf4 = msdf4.withColumn(\"time_signature_confidence\",scaledRange*msdf4.time_signature_confidence + scaledMin)\n",
    "msdf4.select(\"time_signature_confidence\").show(2)"
   ]
  },
  {
   "cell_type": "code",
   "execution_count": 22,
   "id": "attached-today",
   "metadata": {},
   "outputs": [
    {
     "data": {
      "application/vnd.jupyter.widget-view+json": {
       "model_id": "cec2c621e8c24c969d5ea523386c65d0",
       "version_major": 2,
       "version_minor": 0
      },
      "text/plain": [
       "VBox()"
      ]
     },
     "metadata": {},
     "output_type": "display_data"
    },
    {
     "data": {
      "application/vnd.jupyter.widget-view+json": {
       "model_id": "",
       "version_major": 2,
       "version_minor": 0
      },
      "text/plain": [
       "FloatProgress(value=0.0, bar_style='info', description='Progress:', layout=Layout(height='25px', width='50%'),…"
      ]
     },
     "metadata": {},
     "output_type": "display_data"
    },
    {
     "name": "stdout",
     "output_type": "stream",
     "text": [
      "+-----------------+--------------+------------------+--------------+----+---------------+-----------------+-----------------+-------------------------+-----------------+-----+--------------------+\n",
      "|         duration|end_of_fade_in|               key|key_confidence|mode|mode_confidence|         loudness|start_of_fade_out|time_signature_confidence|artist_hotttnesss|speed|             song_id|\n",
      "+-----------------+--------------+------------------+--------------+----+---------------+-----------------+-----------------+-------------------------+-----------------+-----+--------------------+\n",
      "|1.275187656570644|           1.0|2.8181818181818183|         3.456| 1.0|            5.0|4.464093701996928|1.272619062940446|                    4.196| 3.16750777012984|  3.0|b'SOMLEUP12A6D4F8...|\n",
      "+-----------------+--------------+------------------+--------------+----+---------------+-----------------+-----------------+-------------------------+-----------------+-----+--------------------+\n",
      "only showing top 1 row"
     ]
    }
   ],
   "source": [
    "msdf4.show(1)"
   ]
  },
  {
   "cell_type": "code",
   "execution_count": 23,
   "id": "amateur-input",
   "metadata": {},
   "outputs": [
    {
     "data": {
      "application/vnd.jupyter.widget-view+json": {
       "model_id": "664067c6a32540d1803a4fbdba3844c2",
       "version_major": 2,
       "version_minor": 0
      },
      "text/plain": [
       "VBox()"
      ]
     },
     "metadata": {},
     "output_type": "display_data"
    },
    {
     "data": {
      "application/vnd.jupyter.widget-view+json": {
       "model_id": "",
       "version_major": 2,
       "version_minor": 0
      },
      "text/plain": [
       "FloatProgress(value=0.0, bar_style='info', description='Progress:', layout=Layout(height='25px', width='50%'),…"
      ]
     },
     "metadata": {},
     "output_type": "display_data"
    }
   ],
   "source": [
    "allDF=msdf4"
   ]
  },
  {
   "cell_type": "code",
   "execution_count": 24,
   "id": "apparent-profession",
   "metadata": {},
   "outputs": [
    {
     "data": {
      "application/vnd.jupyter.widget-view+json": {
       "model_id": "00587ca121414e53a891a8b8ce531732",
       "version_major": 2,
       "version_minor": 0
      },
      "text/plain": [
       "VBox()"
      ]
     },
     "metadata": {},
     "output_type": "display_data"
    },
    {
     "data": {
      "application/vnd.jupyter.widget-view+json": {
       "model_id": "",
       "version_major": 2,
       "version_minor": 0
      },
      "text/plain": [
       "FloatProgress(value=0.0, bar_style='info', description='Progress:', layout=Layout(height='25px', width='50%'),…"
      ]
     },
     "metadata": {},
     "output_type": "display_data"
    },
    {
     "name": "stdout",
     "output_type": "stream",
     "text": [
      "root\n",
      " |-- duration: double (nullable = true)\n",
      " |-- end_of_fade_in: double (nullable = true)\n",
      " |-- key: double (nullable = true)\n",
      " |-- key_confidence: double (nullable = true)\n",
      " |-- mode: double (nullable = true)\n",
      " |-- mode_confidence: double (nullable = true)\n",
      " |-- loudness: double (nullable = true)\n",
      " |-- start_of_fade_out: double (nullable = true)\n",
      " |-- time_signature_confidence: double (nullable = true)\n",
      " |-- artist_hotttnesss: double (nullable = true)\n",
      " |-- speed: double (nullable = true)\n",
      " |-- song_id: string (nullable = true)"
     ]
    }
   ],
   "source": [
    "allDF.printSchema()"
   ]
  },
  {
   "cell_type": "code",
   "execution_count": 25,
   "id": "choice-hydrogen",
   "metadata": {},
   "outputs": [
    {
     "data": {
      "application/vnd.jupyter.widget-view+json": {
       "model_id": "b6dd4b4d94774996b0bb160fcab5bce2",
       "version_major": 2,
       "version_minor": 0
      },
      "text/plain": [
       "VBox()"
      ]
     },
     "metadata": {},
     "output_type": "display_data"
    },
    {
     "data": {
      "application/vnd.jupyter.widget-view+json": {
       "model_id": "",
       "version_major": 2,
       "version_minor": 0
      },
      "text/plain": [
       "FloatProgress(value=0.0, bar_style='info', description='Progress:', layout=Layout(height='25px', width='50%'),…"
      ]
     },
     "metadata": {},
     "output_type": "display_data"
    }
   ],
   "source": [
    "rowsdf = allDF.select(allDF.duration.cast('double'),allDF.end_of_fade_in.cast('double'), allDF.key.cast('double'), allDF.key_confidence.cast('double'), allDF.mode.cast('double'),allDF.mode_confidence.cast('double'),allDF.loudness.cast('double'),allDF.start_of_fade_out.cast('double'),allDF.time_signature_confidence.cast('double'),allDF.artist_hotttnesss.cast('double'),allDF.speed.cast('double'),allDF.song_id.cast('string'))"
   ]
  },
  {
   "cell_type": "code",
   "execution_count": 26,
   "id": "precious-hepatitis",
   "metadata": {},
   "outputs": [
    {
     "data": {
      "application/vnd.jupyter.widget-view+json": {
       "model_id": "b885fe65a4c24af38b4b829b570d6c25",
       "version_major": 2,
       "version_minor": 0
      },
      "text/plain": [
       "VBox()"
      ]
     },
     "metadata": {},
     "output_type": "display_data"
    },
    {
     "data": {
      "application/vnd.jupyter.widget-view+json": {
       "model_id": "",
       "version_major": 2,
       "version_minor": 0
      },
      "text/plain": [
       "FloatProgress(value=0.0, bar_style='info', description='Progress:', layout=Layout(height='25px', width='50%'),…"
      ]
     },
     "metadata": {},
     "output_type": "display_data"
    }
   ],
   "source": [
    "selected_numerical_features = ['duration', 'end_of_fade_in', 'key', 'key_confidence', 'loudness', 'mode', 'mode_confidence',\n",
    "                               'start_of_fade_out',  'time_signature_confidence','artist_hotttnesss','speed']\n"
   ]
  },
  {
   "cell_type": "code",
   "execution_count": 27,
   "id": "numerical-illinois",
   "metadata": {},
   "outputs": [
    {
     "data": {
      "application/vnd.jupyter.widget-view+json": {
       "model_id": "fb6ce403289a45e689d54790ac0be81d",
       "version_major": 2,
       "version_minor": 0
      },
      "text/plain": [
       "VBox()"
      ]
     },
     "metadata": {},
     "output_type": "display_data"
    },
    {
     "data": {
      "application/vnd.jupyter.widget-view+json": {
       "model_id": "",
       "version_major": 2,
       "version_minor": 0
      },
      "text/plain": [
       "FloatProgress(value=0.0, bar_style='info', description='Progress:', layout=Layout(height='25px', width='50%'),…"
      ]
     },
     "metadata": {},
     "output_type": "display_data"
    },
    {
     "name": "stdout",
     "output_type": "stream",
     "text": [
      "+--------------------+--------------------+\n",
      "|             song_id|            features|\n",
      "+--------------------+--------------------+\n",
      "|b'SOMLEUP12A6D4F8...|[1.27518765657064...|\n",
      "|b'SOMUXIE12A58A76...|[1.42297362052860...|\n",
      "|b'SOLUWQY12A8C13E...|[1.21634184080687...|\n",
      "|b'SOZPMVD12AB0186...|[1.22133461636111...|\n",
      "|b'SOVGENV12A8C139...|[1.23934301692848...|\n",
      "|b'SOVSZTZ12A8C144...|[1.30555746584306...|\n",
      "|b'SOGDSKD12AB0183...|[1.51842159441070...|\n",
      "|b'SOZYAYU12A8C136...|[1.25521658071636...|\n",
      "|b'SOFWYQI12AB0188...|[1.21768472944795...|\n",
      "|b'SOPOZXJ12AB0187...|[1.33826870304981...|\n",
      "+--------------------+--------------------+\n",
      "only showing top 10 rows"
     ]
    }
   ],
   "source": [
    "from pyspark.ml.feature import VectorAssembler\n",
    "\n",
    "assemble=VectorAssembler(inputCols=selected_numerical_features, outputCol='features')\n",
    "assembled_data=assemble.transform(rowsdf).select('song_id', 'features')\n",
    "assembled_data.show(10)"
   ]
  },
  {
   "cell_type": "code",
   "execution_count": 28,
   "id": "pleasant-watershed",
   "metadata": {},
   "outputs": [
    {
     "data": {
      "application/vnd.jupyter.widget-view+json": {
       "model_id": "ac6cc04c775e4c93b33e73381ee75490",
       "version_major": 2,
       "version_minor": 0
      },
      "text/plain": [
       "VBox()"
      ]
     },
     "metadata": {},
     "output_type": "display_data"
    },
    {
     "data": {
      "application/vnd.jupyter.widget-view+json": {
       "model_id": "",
       "version_major": 2,
       "version_minor": 0
      },
      "text/plain": [
       "FloatProgress(value=0.0, bar_style='info', description='Progress:', layout=Layout(height='25px', width='50%'),…"
      ]
     },
     "metadata": {},
     "output_type": "display_data"
    }
   ],
   "source": [
    "from pyspark.ml.clustering import KMeans\n",
    "from pyspark.ml.evaluation import ClusteringEvaluator\n",
    "import time\n",
    "import numpy as np\n",
    "\n",
    "cost = np.zeros(20)\n",
    "strt_time = time.time()\n",
    "for k in range(2,40,2):\n",
    "    kmeans = KMeans().setK(k).setSeed(1).setFeaturesCol(\"features\")\n",
    "    model = kmeans.fit(assembled_data.sample(False,0.1, seed=42))\n",
    "    cost[k//2] = model.computeCost(assembled_data) \n",
    "end_time = time.time()"
   ]
  },
  {
   "cell_type": "code",
   "execution_count": 29,
   "id": "injured-exhaust",
   "metadata": {},
   "outputs": [
    {
     "data": {
      "application/vnd.jupyter.widget-view+json": {
       "model_id": "a29280df453b4c5bbdd37c0ec26c512b",
       "version_major": 2,
       "version_minor": 0
      },
      "text/plain": [
       "VBox()"
      ]
     },
     "metadata": {},
     "output_type": "display_data"
    },
    {
     "data": {
      "application/vnd.jupyter.widget-view+json": {
       "model_id": "",
       "version_major": 2,
       "version_minor": 0
      },
      "text/plain": [
       "FloatProgress(value=0.0, bar_style='info', description='Progress:', layout=Layout(height='25px', width='50%'),…"
      ]
     },
     "metadata": {},
     "output_type": "display_data"
    },
    {
     "name": "stdout",
     "output_type": "stream",
     "text": [
      "-91.10122871398926"
     ]
    }
   ],
   "source": [
    "strt_time - end_time"
   ]
  },
  {
   "cell_type": "code",
   "execution_count": 30,
   "id": "abroad-presentation",
   "metadata": {},
   "outputs": [
    {
     "data": {
      "application/vnd.jupyter.widget-view+json": {
       "model_id": "4c40230374924144aa4fac8d0c527a55",
       "version_major": 2,
       "version_minor": 0
      },
      "text/plain": [
       "VBox()"
      ]
     },
     "metadata": {},
     "output_type": "display_data"
    },
    {
     "data": {
      "application/vnd.jupyter.widget-view+json": {
       "model_id": "",
       "version_major": 2,
       "version_minor": 0
      },
      "text/plain": [
       "FloatProgress(value=0.0, bar_style='info', description='Progress:', layout=Layout(height='25px', width='50%'),…"
      ]
     },
     "metadata": {},
     "output_type": "display_data"
    },
    {
     "name": "stdout",
     "output_type": "stream",
     "text": [
      "array([      0.        , 5669644.30972973, 3916219.41288138,\n",
      "       3488607.3207795 , 2579572.12034534, 2252939.43653187,\n",
      "       2043392.63231072, 1960372.68683046, 1792587.27379728,\n",
      "       1692023.96709863, 1590446.52178527, 1527659.90591236,\n",
      "       1506964.97562036, 1447819.56982767, 1394033.40863645,\n",
      "       1343289.47215278, 1317561.1853925 , 1274928.40902827,\n",
      "       1267359.34964487, 1209823.46249561])"
     ]
    }
   ],
   "source": [
    "cost"
   ]
  },
  {
   "cell_type": "code",
   "execution_count": 31,
   "id": "promotional-cannon",
   "metadata": {},
   "outputs": [
    {
     "data": {
      "application/vnd.jupyter.widget-view+json": {
       "model_id": "72f773d40a404ade86c8d60a4120fc5b",
       "version_major": 2,
       "version_minor": 0
      },
      "text/plain": [
       "VBox()"
      ]
     },
     "metadata": {},
     "output_type": "display_data"
    },
    {
     "data": {
      "application/vnd.jupyter.widget-view+json": {
       "model_id": "",
       "version_major": 2,
       "version_minor": 0
      },
      "text/plain": [
       "FloatProgress(value=0.0, bar_style='info', description='Progress:', layout=Layout(height='25px', width='50%'),…"
      ]
     },
     "metadata": {},
     "output_type": "display_data"
    },
    {
     "name": "stdout",
     "output_type": "stream",
     "text": [
      "Cluster Centers: \n",
      "[1.3569075  1.00263622 2.92559414 2.92456989 4.12581643 1.\n",
      " 5.         1.34501762 4.82460273 2.43523815 2.97927542]\n",
      "[ 1.28836005  1.00247766  3.1732665   4.22935859  4.04158278  5.\n",
      " 21.          1.2774056   1.11771414  2.37405019  3.        ]\n",
      "[1.36479453 1.00314037 2.8438561  2.51266902 4.06404979 1.\n",
      " 5.         1.35277172 3.73521494 2.41629153 3.12849281]\n",
      "[ 1.31481003  1.00287765  1.41679686  1.43403164  4.06177383  5.\n",
      " 21.          1.30419563  3.01432703  2.39680767  2.99492486]\n",
      "[ 1.31949293  1.00276834  1.42243066  1.34245591  4.06422634  5.\n",
      " 21.          1.3085288   4.66886387  2.40414252  2.95818097]\n",
      "[ 1.32177279  1.00279585  3.22199209  1.36417467  4.08189104  5.\n",
      " 21.          1.31082219  3.16324446  2.40305477  2.9732827 ]\n",
      "[ 1.32178651  1.00265902  3.23039468  4.2520005   4.06603287  5.\n",
      " 21.          1.30995448  2.54061979  2.38415462  2.99970594]\n",
      "[1.34244349 1.00287033 4.61137743 3.35116537 4.11367327 1.\n",
      " 5.         1.33145649 1.22038595 2.38976201 3.        ]\n",
      "[1.3158407  1.00290906 1.4132036  3.36616059 4.05303196 1.\n",
      " 5.         1.3050648  1.20979649 2.40114792 3.        ]\n",
      "[1.34578599 1.00289756 4.5960494  1.64958582 4.10084575 1.\n",
      " 5.         1.33467173 3.00216394 2.39791911 3.02417868]\n",
      "[ 1.33030785  1.00260905  3.20665306  1.31906931  4.09801987  5.\n",
      " 21.          1.31927691  4.71920652  2.3981289   2.9281961 ]\n",
      "[ 1.30618822  1.0027715   1.41071507  2.44895749  4.07845539  5.\n",
      " 21.          1.29560764  1.16243168  2.39614412  3.        ]\n",
      "[ 1.34540663  1.00245801  1.39263085  2.82258612  4.11950166  5.\n",
      " 21.          1.33376004  4.83682079  2.50351177  2.90597106]\n",
      "[ 1.29996504  1.00279829  1.40106011  3.45338297  4.06825397  5.\n",
      " 21.          1.28961548  1.10651894  2.38357356  3.        ]\n",
      "[ 1.32935641  1.00344221  1.6518757   2.40008854  3.86100395  5.\n",
      " 21.          1.31849528  4.08718023  2.36871313  1.00122979]\n",
      "[1.35120861 1.003319   1.40996515 3.80826436 4.06228079 1.\n",
      " 5.         1.33872712 3.22394837 2.40974238 2.96764339]\n",
      "[ 1.32487356  1.00269595  4.51638451  3.9931338   4.08510699  5.\n",
      " 21.          1.31302921  3.08678357  2.41536748  3.01281411]\n",
      "[ 1.27282087  1.00305661  1.42669178  1.25891312  4.0013851   5.\n",
      " 21.          1.26335927  1.21098266  2.37095171  3.        ]\n",
      "[ 1.33141303  1.00293727  1.40877693  4.26359542  4.07649319  5.\n",
      " 21.          1.31942686  3.06759325  2.4426645   2.99503322]\n",
      "[1.31269708 1.00292457 2.92807229 1.44076654 4.07069631 1.\n",
      " 5.         1.30251328 1.22628316 2.39305999 3.        ]\n",
      "[ 1.34701174  1.00285512  4.08673996  2.69652273  4.0745887   5.\n",
      " 21.          1.33538961  3.63540686  2.40937422  2.96932495]\n",
      "[ 1.29852043  1.00288614  1.40545112  4.45191491  4.05144963  5.\n",
      " 21.          1.28763122  1.23193581  2.37953833  3.        ]\n",
      "[1.32106104 1.00270174 4.61124433 1.60071327 4.09160689 1.\n",
      " 5.         1.31093511 1.21948282 2.38292498 3.        ]\n",
      "[ 1.33140736  1.00271263  3.05911821  3.87463639  4.0849694   5.\n",
      " 21.          1.31938044  4.82463197  2.4232408   2.86383591]\n",
      "[1.34452403 1.00277338 3.29605219 1.43361427 4.09241964 1.\n",
      " 5.         1.33311406 4.6856803  2.41093534 3.03019494]\n",
      "[1.34398186 1.00302374 1.44982453 2.62510983 4.06850727 1.\n",
      " 5.         1.33211672 2.83035708 2.42873724 2.99800858]\n",
      "[ 1.33092189  1.00263505  4.01620138  4.51126018  4.07002077  5.\n",
      " 21.          1.31872079  4.6102041   2.36377383  2.88604296]\n",
      "[1.35209659 1.00266928 4.69753727 1.33732153 4.10821099 1.\n",
      " 5.         1.3407558  4.66685578 2.39718353 3.02894602]\n",
      "[ 1.29168601  1.00287436  4.457132    1.8836924   4.07124696  5.\n",
      " 21.          1.28186091  1.14174731  2.39380693  3.        ]\n",
      "[ 1.31890777  1.00291493  4.49739956  1.43488958  4.07548943  5.\n",
      " 21.          1.3081564   2.8732657   2.40678694  3.01170825]\n",
      "[1.32719273 1.00313638 1.38645058 1.37143739 4.00811016 1.\n",
      " 5.         1.31573603 3.33628972 2.41028252 2.95128794]\n",
      "[ 1.3416138   1.00279464  1.37296037  4.13201713  4.11768715  5.\n",
      " 21.          1.32936649  4.65944456  2.48201891  3.1300287 ]\n",
      "[1.34908553 1.00291044 1.3888147  2.88871632 4.08322519 1.\n",
      " 5.         1.33679169 4.62410216 2.43475036 2.86058414]\n",
      "[ 1.35009631  1.00345607  2.48829721  2.43279939  3.94236187  5.\n",
      " 21.          1.33886339  4.21866579  2.38863027  4.99737619]\n",
      "[ 1.32791579  1.00275276  4.49309465  1.51265895  4.09786123  5.\n",
      " 21.          1.31677067  4.6431486   2.42149055  2.99709348]\n",
      "[1.36497291 1.00315649 4.58588414 3.36101989 4.11766308 1.\n",
      " 5.         1.3530144  2.98759649 2.40939463 3.0133578 ]\n",
      "[1.36525861 1.00269695 4.56893196 2.67393922 4.1273963  1.\n",
      " 5.         1.35337712 4.62545385 2.41218856 3.02682945]\n",
      "[ 1.34903199  1.00283019  1.3882169   2.95719213  4.09083667  5.\n",
      " 21.          1.33723737  3.68007669  2.5122281   2.95529225]\n",
      "[ 1.29533906  1.0026105   3.16768714  2.9500584   4.06100969  5.\n",
      " 21.          1.28503882  1.12122216  2.39183962  3.        ]\n",
      "[ 1.34725867  1.00269878  1.64758616  3.20896187  4.04648092  5.\n",
      " 21.          1.33576205  4.22565318  1.05993179  2.92724617]\n",
      "[ 1.33420053  1.00273234  3.98922814  2.90368035  4.1029985   5.\n",
      " 21.          1.32290372  2.36337646  2.42875909  3.00039415]\n",
      "[1.37925066 1.00294862 4.53975934 3.88112542 4.12529785 1.\n",
      " 5.         1.36685447 4.65885771 2.41141609 2.93218377]\n",
      "[1.36393689 1.00323867 2.11315237 4.07055732 4.09611568 1.\n",
      " 5.         1.35104663 4.758256   2.40825154 2.87524543]\n",
      "[ 1.33269067  1.00293966  1.42907147  4.10825893  3.96111451  5.\n",
      " 21.          1.32055175  4.59731011  2.42083442  2.06621796]\n",
      "[ 1.32349188  1.00285321  2.6287832   2.79124418  4.05090474  5.\n",
      " 21.          1.31208875  2.81960684  2.43571175  2.98319482]\n",
      "[1.35920892 1.00314266 2.96715656 3.80452972 4.09512138 1.\n",
      " 5.         1.34672134 3.44215024 2.42305442 3.00503388]\n",
      "[ 1.3415574   1.00261126  3.21761994  2.67142285  4.10344346  5.\n",
      " 21.          1.32977492  4.73132971  2.4615363   2.90238665]\n",
      "[1.29574759 1.00293248 1.44038115 1.58892473 4.01874987 1.\n",
      " 5.         1.28545916 1.25531728 2.39245257 3.        ]\n",
      "[1.34976315 1.00292057 2.92137348 2.84360807 4.08906289 1.\n",
      " 5.         1.33820863 2.45458674 2.41285359 2.99266854]\n",
      "[1.33831771 1.00314262 2.93466198 3.95905766 4.06092599 1.\n",
      " 5.         1.32669716 1.29470789 2.39745229 3.        ]\n",
      "[ 1.29106648  1.00275041  3.20794582  1.39603107  4.06217347  5.\n",
      " 21.          1.28125053  1.24787042  2.38912963  3.        ]\n",
      "[1.34427692 1.00319949 3.67292833 2.59490411 3.91541744 1.\n",
      " 5.         1.33271645 4.18691467 2.38392217 1.00022006]\n",
      "[1.33730045 1.00291533 1.79619927 1.41163011 4.0845194  1.\n",
      " 5.         1.32572918 4.75401489 2.41242985 3.00782749]\n",
      "[ 1.33275673  1.00269993  4.47286925  3.25066514  4.10406092  5.\n",
      " 21.          1.32113461  4.75223041  2.43140624  2.92962793]\n",
      "[ 1.33447404  1.00288085  3.20200872  3.75009473  4.07023649  5.\n",
      " 21.          1.32231031  3.67362595  2.465564    2.9392249 ]\n",
      "[ 1.32656055  1.00323206  3.82104426  3.20860408  3.8738621   5.\n",
      " 21.          1.31532983  4.09144431  2.36235376  1.        ]\n",
      "[1.3178858  1.00277368 2.85858017 2.72734681 4.07714287 1.\n",
      " 5.         1.30732764 1.11197605 2.39359167 3.        ]\n",
      "[1.33785881 1.00287726 2.89577658 1.39145785 4.0789744  1.\n",
      " 5.         1.32684971 2.9884432  2.40447808 3.01101466]\n",
      "[ 1.33645208  1.00274799  1.35919973  3.11411436  4.09431919  5.\n",
      " 21.          1.32517897  2.42127403  2.42852564  3.00027624]\n",
      "[ 1.28644685  1.00261564  4.43661593  3.78562664  4.07229186  5.\n",
      " 21.          1.2759807   1.15415267  2.38789292  3.        ]"
     ]
    }
   ],
   "source": [
    "k = 60\n",
    "kmeans = KMeans().setK(k).setSeed(1).setFeaturesCol(\"features\")\n",
    "model = kmeans.fit(assembled_data)\n",
    "centers = model.clusterCenters()\n",
    "\n",
    "print(\"Cluster Centers: \")\n",
    "for center in centers:\n",
    "    print(center)"
   ]
  },
  {
   "cell_type": "code",
   "execution_count": 32,
   "id": "organizational-shame",
   "metadata": {},
   "outputs": [
    {
     "data": {
      "application/vnd.jupyter.widget-view+json": {
       "model_id": "47aa683218124acd999c64038cab07c4",
       "version_major": 2,
       "version_minor": 0
      },
      "text/plain": [
       "VBox()"
      ]
     },
     "metadata": {},
     "output_type": "display_data"
    },
    {
     "data": {
      "application/vnd.jupyter.widget-view+json": {
       "model_id": "",
       "version_major": 2,
       "version_minor": 0
      },
      "text/plain": [
       "FloatProgress(value=0.0, bar_style='info', description='Progress:', layout=Layout(height='25px', width='50%'),…"
      ]
     },
     "metadata": {},
     "output_type": "display_data"
    },
    {
     "name": "stdout",
     "output_type": "stream",
     "text": [
      "+--------------------+----------+\n",
      "|             song_id|prediction|\n",
      "+--------------------+----------+\n",
      "|b'SOMLEUP12A6D4F8...|         0|\n",
      "|b'SOMUXIE12A58A76...|        49|\n",
      "|b'SOLUWQY12A8C13E...|         5|\n",
      "|b'SOZPMVD12AB0186...|        37|\n",
      "|b'SOVGENV12A8C139...|        29|\n",
      "|b'SOVSZTZ12A8C144...|        45|\n",
      "|b'SOGDSKD12AB0183...|        19|\n",
      "|b'SOZYAYU12A8C136...|        37|\n",
      "|b'SOFWYQI12AB0188...|         4|\n",
      "|b'SOPOZXJ12AB0187...|         8|\n",
      "|b'SOTBWME12A8C145...|        31|\n",
      "|b'SOTCMPH12A58A7C...|        32|\n",
      "|b'SOAJOOF12A67AD8...|         0|\n",
      "|b'SORUITS12AB0183...|        10|\n",
      "|b'SOMCOIX12A8C139...|         4|\n",
      "|b'SOWAJNU12A8C135...|        56|\n",
      "|b'SOLHSWR12A8C142...|        57|\n",
      "|b'SOOUUAP12A8C142...|         3|\n",
      "|b'SORIFGT12A8C135...|        31|\n",
      "|b'SOEHECO12A58A79...|        29|\n",
      "+--------------------+----------+\n",
      "only showing top 20 rows"
     ]
    }
   ],
   "source": [
    "transformed = model.transform(assembled_data).select('song_id', 'prediction')\n",
    "rows = transformed.collect()\n",
    "\n",
    "df_pred = sqlContext.createDataFrame(rows)\n",
    "df_pred.show(20)"
   ]
  },
  {
   "cell_type": "code",
   "execution_count": 33,
   "id": "comparative-enzyme",
   "metadata": {},
   "outputs": [
    {
     "data": {
      "application/vnd.jupyter.widget-view+json": {
       "model_id": "3233abb7c35949b6bbd6d6f104219b52",
       "version_major": 2,
       "version_minor": 0
      },
      "text/plain": [
       "VBox()"
      ]
     },
     "metadata": {},
     "output_type": "display_data"
    },
    {
     "data": {
      "application/vnd.jupyter.widget-view+json": {
       "model_id": "",
       "version_major": 2,
       "version_minor": 0
      },
      "text/plain": [
       "FloatProgress(value=0.0, bar_style='info', description='Progress:', layout=Layout(height='25px', width='50%'),…"
      ]
     },
     "metadata": {},
     "output_type": "display_data"
    }
   ],
   "source": [
    "\n",
    "def join(rowsdf, df_pred):\n",
    "    df = df_pred.join(rowsdf, rowsdf.song_id == df_pred.song_id)\n",
    "    repeated_columns = [c for c in rowsdf.columns if c in df_pred.columns]\n",
    "    for col in repeated_columns:\n",
    "        df = df.drop(rowsdf[col])\n",
    "    return df\n",
    "df_final=join(rowsdf, df_pred)\n"
   ]
  },
  {
   "cell_type": "code",
   "execution_count": 34,
   "id": "invisible-crime",
   "metadata": {},
   "outputs": [
    {
     "data": {
      "application/vnd.jupyter.widget-view+json": {
       "model_id": "62aadf3971c9463eb5a1c0ef4f5a5754",
       "version_major": 2,
       "version_minor": 0
      },
      "text/plain": [
       "VBox()"
      ]
     },
     "metadata": {},
     "output_type": "display_data"
    },
    {
     "data": {
      "application/vnd.jupyter.widget-view+json": {
       "model_id": "",
       "version_major": 2,
       "version_minor": 0
      },
      "text/plain": [
       "FloatProgress(value=0.0, bar_style='info', description='Progress:', layout=Layout(height='25px', width='50%'),…"
      ]
     },
     "metadata": {},
     "output_type": "display_data"
    },
    {
     "name": "stdout",
     "output_type": "stream",
     "text": [
      "+--------------------+----------+------------------+--------------+---+--------------+----+---------------+----------------+-----------------+-------------------------+------------------+-----+\n",
      "|             song_id|prediction|          duration|end_of_fade_in|key|key_confidence|mode|mode_confidence|        loudness|start_of_fade_out|time_signature_confidence| artist_hotttnesss|speed|\n",
      "+--------------------+----------+------------------+--------------+---+--------------+----+---------------+----------------+-----------------+-------------------------+------------------+-----+\n",
      "|b'SOAAAGO12A67AE0...|        25|1.2004338473567449|           1.0|1.0|         2.168| 1.0|            5.0|4.18689196108551|1.191395662950544|                    2.104|1.8447663111703494|  3.0|\n",
      "+--------------------+----------+------------------+--------------+---+--------------+----+---------------+----------------+-----------------+-------------------------+------------------+-----+\n",
      "only showing top 1 row"
     ]
    }
   ],
   "source": [
    "df_final.show(1)"
   ]
  },
  {
   "cell_type": "code",
   "execution_count": 35,
   "id": "sorted-equality",
   "metadata": {},
   "outputs": [
    {
     "data": {
      "application/vnd.jupyter.widget-view+json": {
       "model_id": "d322451279c64bb98bf4a572a3273deb",
       "version_major": 2,
       "version_minor": 0
      },
      "text/plain": [
       "VBox()"
      ]
     },
     "metadata": {},
     "output_type": "display_data"
    },
    {
     "data": {
      "application/vnd.jupyter.widget-view+json": {
       "model_id": "",
       "version_major": 2,
       "version_minor": 0
      },
      "text/plain": [
       "FloatProgress(value=0.0, bar_style='info', description='Progress:', layout=Layout(height='25px', width='50%'),…"
      ]
     },
     "metadata": {},
     "output_type": "display_data"
    },
    {
     "name": "stdout",
     "output_type": "stream",
     "text": [
      "DataFrame[song_id: string, prediction: bigint, duration: double, end_of_fade_in: double, key: double, key_confidence: double, mode: double, mode_confidence: double, loudness: double, start_of_fade_out: double, time_signature_confidence: double, artist_hotttnesss: double, speed: double]"
     ]
    }
   ],
   "source": [
    "df_final.cache()"
   ]
  },
  {
   "cell_type": "code",
   "execution_count": 36,
   "id": "resident-christianity",
   "metadata": {},
   "outputs": [
    {
     "data": {
      "application/vnd.jupyter.widget-view+json": {
       "model_id": "786991176ddf49a1965c45262b59be87",
       "version_major": 2,
       "version_minor": 0
      },
      "text/plain": [
       "VBox()"
      ]
     },
     "metadata": {},
     "output_type": "display_data"
    },
    {
     "data": {
      "application/vnd.jupyter.widget-view+json": {
       "model_id": "",
       "version_major": 2,
       "version_minor": 0
      },
      "text/plain": [
       "FloatProgress(value=0.0, bar_style='info', description='Progress:', layout=Layout(height='25px', width='50%'),…"
      ]
     },
     "metadata": {},
     "output_type": "display_data"
    }
   ],
   "source": [
    "song_random=df_final.rdd.map(lambda row: row.asDict()).takeSample(False, 1, seed=0) # Choose a random song"
   ]
  },
  {
   "cell_type": "code",
   "execution_count": 37,
   "id": "immediate-effect",
   "metadata": {},
   "outputs": [
    {
     "data": {
      "application/vnd.jupyter.widget-view+json": {
       "model_id": "49c273f39e584411ab45719cbe873001",
       "version_major": 2,
       "version_minor": 0
      },
      "text/plain": [
       "VBox()"
      ]
     },
     "metadata": {},
     "output_type": "display_data"
    },
    {
     "data": {
      "application/vnd.jupyter.widget-view+json": {
       "model_id": "",
       "version_major": 2,
       "version_minor": 0
      },
      "text/plain": [
       "FloatProgress(value=0.0, bar_style='info', description='Progress:', layout=Layout(height='25px', width='50%'),…"
      ]
     },
     "metadata": {},
     "output_type": "display_data"
    },
    {
     "name": "stdout",
     "output_type": "stream",
     "text": [
      "[{'song_id': \"b'SOFTQSW12AB0183155'\", 'prediction': 41, 'duration': 1.3516631070730365, 'end_of_fade_in': 1.0007285592654611, 'key': 5.0, 'key_confidence': 3.912, 'mode': 1.0, 'mode_confidence': 5.0, 'loudness': 4.203917050691245, 'start_of_fade_out': 1.3445945611487145, 'time_signature_confidence': 4.779999999999999, 'artist_hotttnesss': 2.314913622364997, 'speed': 3.0}]"
     ]
    }
   ],
   "source": [
    "song_random"
   ]
  },
  {
   "cell_type": "code",
   "execution_count": 38,
   "id": "above-composer",
   "metadata": {},
   "outputs": [
    {
     "data": {
      "application/vnd.jupyter.widget-view+json": {
       "model_id": "63947322fff94d41b90c72e9a0cafadc",
       "version_major": 2,
       "version_minor": 0
      },
      "text/plain": [
       "VBox()"
      ]
     },
     "metadata": {},
     "output_type": "display_data"
    },
    {
     "data": {
      "application/vnd.jupyter.widget-view+json": {
       "model_id": "",
       "version_major": 2,
       "version_minor": 0
      },
      "text/plain": [
       "FloatProgress(value=0.0, bar_style='info', description='Progress:', layout=Layout(height='25px', width='50%'),…"
      ]
     },
     "metadata": {},
     "output_type": "display_data"
    },
    {
     "name": "stderr",
     "output_type": "stream",
     "text": [
      "An error occurred while calling z:org.apache.spark.api.python.PythonRDD.collectAndServe.\n",
      ": org.apache.spark.SparkException: Job aborted due to stage failure: Task 2 in stage 1021.0 failed 4 times, most recent failure: Lost task 2.3 in stage 1021.0 (TID 13505, ip-172-31-88-18.ec2.internal, executor 2): org.apache.spark.api.python.PythonException: Traceback (most recent call last):\n",
      "  File \"/mnt/yarn/usercache/livy/appcache/application_1617185507602_0006/container_1617185507602_0006_01_000004/pyspark.zip/pyspark/worker.py\", line 377, in main\n",
      "    process()\n",
      "  File \"/mnt/yarn/usercache/livy/appcache/application_1617185507602_0006/container_1617185507602_0006_01_000004/pyspark.zip/pyspark/worker.py\", line 372, in process\n",
      "    serializer.dump_stream(func(split_index, iterator), outfile)\n",
      "  File \"/mnt/yarn/usercache/livy/appcache/application_1617185507602_0006/container_1617185507602_0006_01_000004/pyspark.zip/pyspark/serializers.py\", line 393, in dump_stream\n",
      "    vs = list(itertools.islice(iterator, batch))\n",
      "  File \"/usr/lib/spark/python/lib/pyspark.zip/pyspark/rdd.py\", line 839, in func\n",
      "  File \"/usr/lib/spark/python/lib/pyspark.zip/pyspark/rdd.py\", line 1280, in topIterator\n",
      "  File \"/mnt/yarn/usercache/livy/appcache/application_1617185507602_0006/container_1617185507602_0006_01_000004/virtualenv_application_1617185507602_0006_0/lib64/python3.6/heapq.py\", line 569, in nlargest\n",
      "    result = [(key(elem), i, elem) for i, elem in zip(range(0, -n, -1), it)]\n",
      "  File \"/mnt/yarn/usercache/livy/appcache/application_1617185507602_0006/container_1617185507602_0006_01_000004/virtualenv_application_1617185507602_0006_0/lib64/python3.6/heapq.py\", line 569, in <listcomp>\n",
      "    result = [(key(elem), i, elem) for i, elem in zip(range(0, -n, -1), it)]\n",
      "  File \"/mnt/yarn/usercache/livy/appcache/application_1617185507602_0006/container_1617185507602_0006_01_000004/pyspark.zip/pyspark/util.py\", line 113, in wrapper\n",
      "    return f(*args, **kwargs)\n",
      "  File \"<stdin>\", line 7, in <lambda>\n",
      "NameError: name 'cossim' is not defined\n",
      "\n",
      "\tat org.apache.spark.api.python.BasePythonRunner$ReaderIterator.handlePythonException(PythonRunner.scala:456)\n",
      "\tat org.apache.spark.api.python.PythonRunner$$anon$1.read(PythonRunner.scala:592)\n",
      "\tat org.apache.spark.api.python.PythonRunner$$anon$1.read(PythonRunner.scala:575)\n",
      "\tat org.apache.spark.api.python.BasePythonRunner$ReaderIterator.hasNext(PythonRunner.scala:410)\n",
      "\tat org.apache.spark.InterruptibleIterator.hasNext(InterruptibleIterator.scala:37)\n",
      "\tat scala.collection.Iterator$class.foreach(Iterator.scala:891)\n",
      "\tat org.apache.spark.InterruptibleIterator.foreach(InterruptibleIterator.scala:28)\n",
      "\tat scala.collection.generic.Growable$class.$plus$plus$eq(Growable.scala:59)\n",
      "\tat scala.collection.mutable.ArrayBuffer.$plus$plus$eq(ArrayBuffer.scala:104)\n",
      "\tat scala.collection.mutable.ArrayBuffer.$plus$plus$eq(ArrayBuffer.scala:48)\n",
      "\tat scala.collection.TraversableOnce$class.to(TraversableOnce.scala:310)\n",
      "\tat org.apache.spark.InterruptibleIterator.to(InterruptibleIterator.scala:28)\n",
      "\tat scala.collection.TraversableOnce$class.toBuffer(TraversableOnce.scala:302)\n",
      "\tat org.apache.spark.InterruptibleIterator.toBuffer(InterruptibleIterator.scala:28)\n",
      "\tat scala.collection.TraversableOnce$class.toArray(TraversableOnce.scala:289)\n",
      "\tat org.apache.spark.InterruptibleIterator.toArray(InterruptibleIterator.scala:28)\n",
      "\tat org.apache.spark.rdd.RDD$$anonfun$collect$1$$anonfun$13.apply(RDD.scala:945)\n",
      "\tat org.apache.spark.rdd.RDD$$anonfun$collect$1$$anonfun$13.apply(RDD.scala:945)\n",
      "\tat org.apache.spark.SparkContext$$anonfun$runJob$5.apply(SparkContext.scala:2101)\n",
      "\tat org.apache.spark.SparkContext$$anonfun$runJob$5.apply(SparkContext.scala:2101)\n",
      "\tat org.apache.spark.scheduler.ResultTask.runTask(ResultTask.scala:90)\n",
      "\tat org.apache.spark.scheduler.Task.run(Task.scala:123)\n",
      "\tat org.apache.spark.executor.Executor$TaskRunner$$anonfun$10.apply(Executor.scala:408)\n",
      "\tat org.apache.spark.util.Utils$.tryWithSafeFinally(Utils.scala:1360)\n",
      "\tat org.apache.spark.executor.Executor$TaskRunner.run(Executor.scala:414)\n",
      "\tat java.util.concurrent.ThreadPoolExecutor.runWorker(ThreadPoolExecutor.java:1149)\n",
      "\tat java.util.concurrent.ThreadPoolExecutor$Worker.run(ThreadPoolExecutor.java:624)\n",
      "\tat java.lang.Thread.run(Thread.java:748)\n",
      "\n",
      "Driver stacktrace:\n",
      "\tat org.apache.spark.scheduler.DAGScheduler.org$apache$spark$scheduler$DAGScheduler$$failJobAndIndependentStages(DAGScheduler.scala:2041)\n",
      "\tat org.apache.spark.scheduler.DAGScheduler$$anonfun$abortStage$1.apply(DAGScheduler.scala:2029)\n",
      "\tat org.apache.spark.scheduler.DAGScheduler$$anonfun$abortStage$1.apply(DAGScheduler.scala:2028)\n",
      "\tat scala.collection.mutable.ResizableArray$class.foreach(ResizableArray.scala:59)\n",
      "\tat scala.collection.mutable.ArrayBuffer.foreach(ArrayBuffer.scala:48)\n",
      "\tat org.apache.spark.scheduler.DAGScheduler.abortStage(DAGScheduler.scala:2028)\n",
      "\tat org.apache.spark.scheduler.DAGScheduler$$anonfun$handleTaskSetFailed$1.apply(DAGScheduler.scala:966)\n",
      "\tat org.apache.spark.scheduler.DAGScheduler$$anonfun$handleTaskSetFailed$1.apply(DAGScheduler.scala:966)\n",
      "\tat scala.Option.foreach(Option.scala:257)\n",
      "\tat org.apache.spark.scheduler.DAGScheduler.handleTaskSetFailed(DAGScheduler.scala:966)\n",
      "\tat org.apache.spark.scheduler.DAGSchedulerEventProcessLoop.doOnReceive(DAGScheduler.scala:2262)\n",
      "\tat org.apache.spark.scheduler.DAGSchedulerEventProcessLoop.onReceive(DAGScheduler.scala:2211)\n",
      "\tat org.apache.spark.scheduler.DAGSchedulerEventProcessLoop.onReceive(DAGScheduler.scala:2200)\n",
      "\tat org.apache.spark.util.EventLoop$$anon$1.run(EventLoop.scala:49)\n",
      "\tat org.apache.spark.scheduler.DAGScheduler.runJob(DAGScheduler.scala:777)\n",
      "\tat org.apache.spark.SparkContext.runJob(SparkContext.scala:2061)\n",
      "\tat org.apache.spark.SparkContext.runJob(SparkContext.scala:2082)\n",
      "\tat org.apache.spark.SparkContext.runJob(SparkContext.scala:2101)\n",
      "\tat org.apache.spark.SparkContext.runJob(SparkContext.scala:2126)\n",
      "\tat org.apache.spark.rdd.RDD$$anonfun$collect$1.apply(RDD.scala:945)\n",
      "\tat org.apache.spark.rdd.RDDOperationScope$.withScope(RDDOperationScope.scala:151)\n",
      "\tat org.apache.spark.rdd.RDDOperationScope$.withScope(RDDOperationScope.scala:112)\n",
      "\tat org.apache.spark.rdd.RDD.withScope(RDD.scala:363)\n",
      "\tat org.apache.spark.rdd.RDD.collect(RDD.scala:944)\n",
      "\tat org.apache.spark.api.python.PythonRDD$.collectAndServe(PythonRDD.scala:166)\n",
      "\tat org.apache.spark.api.python.PythonRDD.collectAndServe(PythonRDD.scala)\n",
      "\tat sun.reflect.NativeMethodAccessorImpl.invoke0(Native Method)\n",
      "\tat sun.reflect.NativeMethodAccessorImpl.invoke(NativeMethodAccessorImpl.java:62)\n",
      "\tat sun.reflect.DelegatingMethodAccessorImpl.invoke(DelegatingMethodAccessorImpl.java:43)\n",
      "\tat java.lang.reflect.Method.invoke(Method.java:498)\n",
      "\tat py4j.reflection.MethodInvoker.invoke(MethodInvoker.java:244)\n",
      "\tat py4j.reflection.ReflectionEngine.invoke(ReflectionEngine.java:357)\n",
      "\tat py4j.Gateway.invoke(Gateway.java:282)\n",
      "\tat py4j.commands.AbstractCommand.invokeMethod(AbstractCommand.java:132)\n",
      "\tat py4j.commands.CallCommand.execute(CallCommand.java:79)\n",
      "\tat py4j.GatewayConnection.run(GatewayConnection.java:238)\n",
      "\tat java.lang.Thread.run(Thread.java:748)\n",
      "Caused by: org.apache.spark.api.python.PythonException: Traceback (most recent call last):\n",
      "  File \"/mnt/yarn/usercache/livy/appcache/application_1617185507602_0006/container_1617185507602_0006_01_000004/pyspark.zip/pyspark/worker.py\", line 377, in main\n",
      "    process()\n",
      "  File \"/mnt/yarn/usercache/livy/appcache/application_1617185507602_0006/container_1617185507602_0006_01_000004/pyspark.zip/pyspark/worker.py\", line 372, in process\n",
      "    serializer.dump_stream(func(split_index, iterator), outfile)\n",
      "  File \"/mnt/yarn/usercache/livy/appcache/application_1617185507602_0006/container_1617185507602_0006_01_000004/pyspark.zip/pyspark/serializers.py\", line 393, in dump_stream\n",
      "    vs = list(itertools.islice(iterator, batch))\n",
      "  File \"/usr/lib/spark/python/lib/pyspark.zip/pyspark/rdd.py\", line 839, in func\n",
      "  File \"/usr/lib/spark/python/lib/pyspark.zip/pyspark/rdd.py\", line 1280, in topIterator\n",
      "  File \"/mnt/yarn/usercache/livy/appcache/application_1617185507602_0006/container_1617185507602_0006_01_000004/virtualenv_application_1617185507602_0006_0/lib64/python3.6/heapq.py\", line 569, in nlargest\n",
      "    result = [(key(elem), i, elem) for i, elem in zip(range(0, -n, -1), it)]\n",
      "  File \"/mnt/yarn/usercache/livy/appcache/application_1617185507602_0006/container_1617185507602_0006_01_000004/virtualenv_application_1617185507602_0006_0/lib64/python3.6/heapq.py\", line 569, in <listcomp>\n",
      "    result = [(key(elem), i, elem) for i, elem in zip(range(0, -n, -1), it)]\n",
      "  File \"/mnt/yarn/usercache/livy/appcache/application_1617185507602_0006/container_1617185507602_0006_01_000004/pyspark.zip/pyspark/util.py\", line 113, in wrapper\n",
      "    return f(*args, **kwargs)\n",
      "  File \"<stdin>\", line 7, in <lambda>\n",
      "NameError: name 'cossim' is not defined\n",
      "\n",
      "\tat org.apache.spark.api.python.BasePythonRunner$ReaderIterator.handlePythonException(PythonRunner.scala:456)\n",
      "\tat org.apache.spark.api.python.PythonRunner$$anon$1.read(PythonRunner.scala:592)\n",
      "\tat org.apache.spark.api.python.PythonRunner$$anon$1.read(PythonRunner.scala:575)\n",
      "\tat org.apache.spark.api.python.BasePythonRunner$ReaderIterator.hasNext(PythonRunner.scala:410)\n",
      "\tat org.apache.spark.InterruptibleIterator.hasNext(InterruptibleIterator.scala:37)\n",
      "\tat scala.collection.Iterator$class.foreach(Iterator.scala:891)\n",
      "\tat org.apache.spark.InterruptibleIterator.foreach(InterruptibleIterator.scala:28)\n",
      "\tat scala.collection.generic.Growable$class.$plus$plus$eq(Growable.scala:59)\n",
      "\tat scala.collection.mutable.ArrayBuffer.$plus$plus$eq(ArrayBuffer.scala:104)\n",
      "\tat scala.collection.mutable.ArrayBuffer.$plus$plus$eq(ArrayBuffer.scala:48)\n",
      "\tat scala.collection.TraversableOnce$class.to(TraversableOnce.scala:310)\n",
      "\tat org.apache.spark.InterruptibleIterator.to(InterruptibleIterator.scala:28)\n",
      "\tat scala.collection.TraversableOnce$class.toBuffer(TraversableOnce.scala:302)\n",
      "\tat org.apache.spark.InterruptibleIterator.toBuffer(InterruptibleIterator.scala:28)\n",
      "\tat scala.collection.TraversableOnce$class.toArray(TraversableOnce.scala:289)\n",
      "\tat org.apache.spark.InterruptibleIterator.toArray(InterruptibleIterator.scala:28)\n",
      "\tat org.apache.spark.rdd.RDD$$anonfun$collect$1$$anonfun$13.apply(RDD.scala:945)\n",
      "\tat org.apache.spark.rdd.RDD$$anonfun$collect$1$$anonfun$13.apply(RDD.scala:945)\n",
      "\tat org.apache.spark.SparkContext$$anonfun$runJob$5.apply(SparkContext.scala:2101)\n",
      "\tat org.apache.spark.SparkContext$$anonfun$runJob$5.apply(SparkContext.scala:2101)\n",
      "\tat org.apache.spark.scheduler.ResultTask.runTask(ResultTask.scala:90)\n",
      "\tat org.apache.spark.scheduler.Task.run(Task.scala:123)\n",
      "\tat org.apache.spark.executor.Executor$TaskRunner$$anonfun$10.apply(Executor.scala:408)\n",
      "\tat org.apache.spark.util.Utils$.tryWithSafeFinally(Utils.scala:1360)\n",
      "\tat org.apache.spark.executor.Executor$TaskRunner.run(Executor.scala:414)\n",
      "\tat java.util.concurrent.ThreadPoolExecutor.runWorker(ThreadPoolExecutor.java:1149)\n",
      "\tat java.util.concurrent.ThreadPoolExecutor$Worker.run(ThreadPoolExecutor.java:624)\n",
      "\t... 1 more\n",
      "\n",
      "Traceback (most recent call last):\n",
      "  File \"/usr/lib/spark/python/lib/pyspark.zip/pyspark/rdd.py\", line 1285, in top\n",
      "    return self.mapPartitions(topIterator).reduce(merge)\n",
      "  File \"/usr/lib/spark/python/lib/pyspark.zip/pyspark/rdd.py\", line 844, in reduce\n",
      "    vals = self.mapPartitions(func).collect()\n",
      "  File \"/usr/lib/spark/python/lib/pyspark.zip/pyspark/rdd.py\", line 816, in collect\n",
      "    sock_info = self.ctx._jvm.PythonRDD.collectAndServe(self._jrdd.rdd())\n",
      "  File \"/usr/lib/spark/python/lib/py4j-0.10.7-src.zip/py4j/java_gateway.py\", line 1257, in __call__\n",
      "    answer, self.gateway_client, self.target_id, self.name)\n",
      "  File \"/usr/lib/spark/python/lib/pyspark.zip/pyspark/sql/utils.py\", line 63, in deco\n",
      "    return f(*a, **kw)\n",
      "  File \"/usr/lib/spark/python/lib/py4j-0.10.7-src.zip/py4j/protocol.py\", line 328, in get_return_value\n",
      "    format(target_id, \".\", name), value)\n",
      "py4j.protocol.Py4JJavaError: An error occurred while calling z:org.apache.spark.api.python.PythonRDD.collectAndServe.\n",
      ": org.apache.spark.SparkException: Job aborted due to stage failure: Task 2 in stage 1021.0 failed 4 times, most recent failure: Lost task 2.3 in stage 1021.0 (TID 13505, ip-172-31-88-18.ec2.internal, executor 2): org.apache.spark.api.python.PythonException: Traceback (most recent call last):\n",
      "  File \"/mnt/yarn/usercache/livy/appcache/application_1617185507602_0006/container_1617185507602_0006_01_000004/pyspark.zip/pyspark/worker.py\", line 377, in main\n",
      "    process()\n",
      "  File \"/mnt/yarn/usercache/livy/appcache/application_1617185507602_0006/container_1617185507602_0006_01_000004/pyspark.zip/pyspark/worker.py\", line 372, in process\n",
      "    serializer.dump_stream(func(split_index, iterator), outfile)\n",
      "  File \"/mnt/yarn/usercache/livy/appcache/application_1617185507602_0006/container_1617185507602_0006_01_000004/pyspark.zip/pyspark/serializers.py\", line 393, in dump_stream\n",
      "    vs = list(itertools.islice(iterator, batch))\n",
      "  File \"/usr/lib/spark/python/lib/pyspark.zip/pyspark/rdd.py\", line 839, in func\n",
      "  File \"/usr/lib/spark/python/lib/pyspark.zip/pyspark/rdd.py\", line 1280, in topIterator\n",
      "  File \"/mnt/yarn/usercache/livy/appcache/application_1617185507602_0006/container_1617185507602_0006_01_000004/virtualenv_application_1617185507602_0006_0/lib64/python3.6/heapq.py\", line 569, in nlargest\n",
      "    result = [(key(elem), i, elem) for i, elem in zip(range(0, -n, -1), it)]\n",
      "  File \"/mnt/yarn/usercache/livy/appcache/application_1617185507602_0006/container_1617185507602_0006_01_000004/virtualenv_application_1617185507602_0006_0/lib64/python3.6/heapq.py\", line 569, in <listcomp>\n",
      "    result = [(key(elem), i, elem) for i, elem in zip(range(0, -n, -1), it)]\n",
      "  File \"/mnt/yarn/usercache/livy/appcache/application_1617185507602_0006/container_1617185507602_0006_01_000004/pyspark.zip/pyspark/util.py\", line 113, in wrapper\n",
      "    return f(*args, **kwargs)\n",
      "  File \"<stdin>\", line 7, in <lambda>\n",
      "NameError: name 'cossim' is not defined\n",
      "\n",
      "\tat org.apache.spark.api.python.BasePythonRunner$ReaderIterator.handlePythonException(PythonRunner.scala:456)\n",
      "\tat org.apache.spark.api.python.PythonRunner$$anon$1.read(PythonRunner.scala:592)\n",
      "\tat org.apache.spark.api.python.PythonRunner$$anon$1.read(PythonRunner.scala:575)\n",
      "\tat org.apache.spark.api.python.BasePythonRunner$ReaderIterator.hasNext(PythonRunner.scala:410)\n",
      "\tat org.apache.spark.InterruptibleIterator.hasNext(InterruptibleIterator.scala:37)\n",
      "\tat scala.collection.Iterator$class.foreach(Iterator.scala:891)\n",
      "\tat org.apache.spark.InterruptibleIterator.foreach(InterruptibleIterator.scala:28)\n",
      "\tat scala.collection.generic.Growable$class.$plus$plus$eq(Growable.scala:59)\n",
      "\tat scala.collection.mutable.ArrayBuffer.$plus$plus$eq(ArrayBuffer.scala:104)\n",
      "\tat scala.collection.mutable.ArrayBuffer.$plus$plus$eq(ArrayBuffer.scala:48)\n",
      "\tat scala.collection.TraversableOnce$class.to(TraversableOnce.scala:310)\n",
      "\tat org.apache.spark.InterruptibleIterator.to(InterruptibleIterator.scala:28)\n",
      "\tat scala.collection.TraversableOnce$class.toBuffer(TraversableOnce.scala:302)\n",
      "\tat org.apache.spark.InterruptibleIterator.toBuffer(InterruptibleIterator.scala:28)\n",
      "\tat scala.collection.TraversableOnce$class.toArray(TraversableOnce.scala:289)\n",
      "\tat org.apache.spark.InterruptibleIterator.toArray(InterruptibleIterator.scala:28)\n",
      "\tat org.apache.spark.rdd.RDD$$anonfun$collect$1$$anonfun$13.apply(RDD.scala:945)\n",
      "\tat org.apache.spark.rdd.RDD$$anonfun$collect$1$$anonfun$13.apply(RDD.scala:945)\n",
      "\tat org.apache.spark.SparkContext$$anonfun$runJob$5.apply(SparkContext.scala:2101)\n",
      "\tat org.apache.spark.SparkContext$$anonfun$runJob$5.apply(SparkContext.scala:2101)\n",
      "\tat org.apache.spark.scheduler.ResultTask.runTask(ResultTask.scala:90)\n",
      "\tat org.apache.spark.scheduler.Task.run(Task.scala:123)\n",
      "\tat org.apache.spark.executor.Executor$TaskRunner$$anonfun$10.apply(Executor.scala:408)\n",
      "\tat org.apache.spark.util.Utils$.tryWithSafeFinally(Utils.scala:1360)\n",
      "\tat org.apache.spark.executor.Executor$TaskRunner.run(Executor.scala:414)\n",
      "\tat java.util.concurrent.ThreadPoolExecutor.runWorker(ThreadPoolExecutor.java:1149)\n",
      "\tat java.util.concurrent.ThreadPoolExecutor$Worker.run(ThreadPoolExecutor.java:624)\n",
      "\tat java.lang.Thread.run(Thread.java:748)\n",
      "\n",
      "Driver stacktrace:\n",
      "\tat org.apache.spark.scheduler.DAGScheduler.org$apache$spark$scheduler$DAGScheduler$$failJobAndIndependentStages(DAGScheduler.scala:2041)\n",
      "\tat org.apache.spark.scheduler.DAGScheduler$$anonfun$abortStage$1.apply(DAGScheduler.scala:2029)\n",
      "\tat org.apache.spark.scheduler.DAGScheduler$$anonfun$abortStage$1.apply(DAGScheduler.scala:2028)\n",
      "\tat scala.collection.mutable.ResizableArray$class.foreach(ResizableArray.scala:59)\n",
      "\tat scala.collection.mutable.ArrayBuffer.foreach(ArrayBuffer.scala:48)\n",
      "\tat org.apache.spark.scheduler.DAGScheduler.abortStage(DAGScheduler.scala:2028)\n",
      "\tat org.apache.spark.scheduler.DAGScheduler$$anonfun$handleTaskSetFailed$1.apply(DAGScheduler.scala:966)\n",
      "\tat org.apache.spark.scheduler.DAGScheduler$$anonfun$handleTaskSetFailed$1.apply(DAGScheduler.scala:966)\n",
      "\tat scala.Option.foreach(Option.scala:257)\n",
      "\tat org.apache.spark.scheduler.DAGScheduler.handleTaskSetFailed(DAGScheduler.scala:966)\n",
      "\tat org.apache.spark.scheduler.DAGSchedulerEventProcessLoop.doOnReceive(DAGScheduler.scala:2262)\n",
      "\tat org.apache.spark.scheduler.DAGSchedulerEventProcessLoop.onReceive(DAGScheduler.scala:2211)\n",
      "\tat org.apache.spark.scheduler.DAGSchedulerEventProcessLoop.onReceive(DAGScheduler.scala:2200)\n",
      "\tat org.apache.spark.util.EventLoop$$anon$1.run(EventLoop.scala:49)\n",
      "\tat org.apache.spark.scheduler.DAGScheduler.runJob(DAGScheduler.scala:777)\n",
      "\tat org.apache.spark.SparkContext.runJob(SparkContext.scala:2061)\n",
      "\tat org.apache.spark.SparkContext.runJob(SparkContext.scala:2082)\n",
      "\tat org.apache.spark.SparkContext.runJob(SparkContext.scala:2101)\n",
      "\tat org.apache.spark.SparkContext.runJob(SparkContext.scala:2126)\n",
      "\tat org.apache.spark.rdd.RDD$$anonfun$collect$1.apply(RDD.scala:945)\n",
      "\tat org.apache.spark.rdd.RDDOperationScope$.withScope(RDDOperationScope.scala:151)\n",
      "\tat org.apache.spark.rdd.RDDOperationScope$.withScope(RDDOperationScope.scala:112)\n",
      "\tat org.apache.spark.rdd.RDD.withScope(RDD.scala:363)\n",
      "\tat org.apache.spark.rdd.RDD.collect(RDD.scala:944)\n",
      "\tat org.apache.spark.api.python.PythonRDD$.collectAndServe(PythonRDD.scala:166)\n",
      "\tat org.apache.spark.api.python.PythonRDD.collectAndServe(PythonRDD.scala)\n",
      "\tat sun.reflect.NativeMethodAccessorImpl.invoke0(Native Method)\n",
      "\tat sun.reflect.NativeMethodAccessorImpl.invoke(NativeMethodAccessorImpl.java:62)\n",
      "\tat sun.reflect.DelegatingMethodAccessorImpl.invoke(DelegatingMethodAccessorImpl.java:43)\n",
      "\tat java.lang.reflect.Method.invoke(Method.java:498)\n",
      "\tat py4j.reflection.MethodInvoker.invoke(MethodInvoker.java:244)\n",
      "\tat py4j.reflection.ReflectionEngine.invoke(ReflectionEngine.java:357)\n",
      "\tat py4j.Gateway.invoke(Gateway.java:282)\n",
      "\tat py4j.commands.AbstractCommand.invokeMethod(AbstractCommand.java:132)\n",
      "\tat py4j.commands.CallCommand.execute(CallCommand.java:79)\n",
      "\tat py4j.GatewayConnection.run(GatewayConnection.java:238)\n",
      "\tat java.lang.Thread.run(Thread.java:748)\n",
      "Caused by: org.apache.spark.api.python.PythonException: Traceback (most recent call last):\n",
      "  File \"/mnt/yarn/usercache/livy/appcache/application_1617185507602_0006/container_1617185507602_0006_01_000004/pyspark.zip/pyspark/worker.py\", line 377, in main\n",
      "    process()\n",
      "  File \"/mnt/yarn/usercache/livy/appcache/application_1617185507602_0006/container_1617185507602_0006_01_000004/pyspark.zip/pyspark/worker.py\", line 372, in process\n",
      "    serializer.dump_stream(func(split_index, iterator), outfile)\n",
      "  File \"/mnt/yarn/usercache/livy/appcache/application_1617185507602_0006/container_1617185507602_0006_01_000004/pyspark.zip/pyspark/serializers.py\", line 393, in dump_stream\n",
      "    vs = list(itertools.islice(iterator, batch))\n",
      "  File \"/usr/lib/spark/python/lib/pyspark.zip/pyspark/rdd.py\", line 839, in func\n",
      "  File \"/usr/lib/spark/python/lib/pyspark.zip/pyspark/rdd.py\", line 1280, in topIterator\n",
      "  File \"/mnt/yarn/usercache/livy/appcache/application_1617185507602_0006/container_1617185507602_0006_01_000004/virtualenv_application_1617185507602_0006_0/lib64/python3.6/heapq.py\", line 569, in nlargest\n",
      "    result = [(key(elem), i, elem) for i, elem in zip(range(0, -n, -1), it)]\n",
      "  File \"/mnt/yarn/usercache/livy/appcache/application_1617185507602_0006/container_1617185507602_0006_01_000004/virtualenv_application_1617185507602_0006_0/lib64/python3.6/heapq.py\", line 569, in <listcomp>\n",
      "    result = [(key(elem), i, elem) for i, elem in zip(range(0, -n, -1), it)]\n",
      "  File \"/mnt/yarn/usercache/livy/appcache/application_1617185507602_0006/container_1617185507602_0006_01_000004/pyspark.zip/pyspark/util.py\", line 113, in wrapper\n",
      "    return f(*args, **kwargs)\n",
      "  File \"<stdin>\", line 7, in <lambda>\n",
      "NameError: name 'cossim' is not defined\n",
      "\n",
      "\tat org.apache.spark.api.python.BasePythonRunner$ReaderIterator.handlePythonException(PythonRunner.scala:456)\n",
      "\tat org.apache.spark.api.python.PythonRunner$$anon$1.read(PythonRunner.scala:592)\n",
      "\tat org.apache.spark.api.python.PythonRunner$$anon$1.read(PythonRunner.scala:575)\n",
      "\tat org.apache.spark.api.python.BasePythonRunner$ReaderIterator.hasNext(PythonRunner.scala:410)\n",
      "\tat org.apache.spark.InterruptibleIterator.hasNext(InterruptibleIterator.scala:37)\n",
      "\tat scala.collection.Iterator$class.foreach(Iterator.scala:891)\n",
      "\tat org.apache.spark.InterruptibleIterator.foreach(InterruptibleIterator.scala:28)\n",
      "\tat scala.collection.generic.Growable$class.$plus$plus$eq(Growable.scala:59)\n",
      "\tat scala.collection.mutable.ArrayBuffer.$plus$plus$eq(ArrayBuffer.scala:104)\n",
      "\tat scala.collection.mutable.ArrayBuffer.$plus$plus$eq(ArrayBuffer.scala:48)\n",
      "\tat scala.collection.TraversableOnce$class.to(TraversableOnce.scala:310)\n",
      "\tat org.apache.spark.InterruptibleIterator.to(InterruptibleIterator.scala:28)\n",
      "\tat scala.collection.TraversableOnce$class.toBuffer(TraversableOnce.scala:302)\n",
      "\tat org.apache.spark.InterruptibleIterator.toBuffer(InterruptibleIterator.scala:28)\n",
      "\tat scala.collection.TraversableOnce$class.toArray(TraversableOnce.scala:289)\n",
      "\tat org.apache.spark.InterruptibleIterator.toArray(InterruptibleIterator.scala:28)\n",
      "\tat org.apache.spark.rdd.RDD$$anonfun$collect$1$$anonfun$13.apply(RDD.scala:945)\n",
      "\tat org.apache.spark.rdd.RDD$$anonfun$collect$1$$anonfun$13.apply(RDD.scala:945)\n",
      "\tat org.apache.spark.SparkContext$$anonfun$runJob$5.apply(SparkContext.scala:2101)\n",
      "\tat org.apache.spark.SparkContext$$anonfun$runJob$5.apply(SparkContext.scala:2101)\n",
      "\tat org.apache.spark.scheduler.ResultTask.runTask(ResultTask.scala:90)\n",
      "\tat org.apache.spark.scheduler.Task.run(Task.scala:123)\n",
      "\tat org.apache.spark.executor.Executor$TaskRunner$$anonfun$10.apply(Executor.scala:408)\n",
      "\tat org.apache.spark.util.Utils$.tryWithSafeFinally(Utils.scala:1360)\n",
      "\tat org.apache.spark.executor.Executor$TaskRunner.run(Executor.scala:414)\n",
      "\tat java.util.concurrent.ThreadPoolExecutor.runWorker(ThreadPoolExecutor.java:1149)\n",
      "\tat java.util.concurrent.ThreadPoolExecutor$Worker.run(ThreadPoolExecutor.java:624)\n",
      "\t... 1 more\n",
      "\n",
      "\n"
     ]
    }
   ],
   "source": [
    "from pyspark.sql.functions import col\n",
    "import time\n",
    "s = time.time()\n",
    "prediction_cluster=song_random[0]['prediction']\n",
    "similar_cluster_rdd=df_final.filter(col(\"prediction\") == prediction_cluster)#All the songs which are assigned to that same cluster\n",
    "similar_cluster_rdd_new=similar_cluster_rdd.drop(similar_cluster_rdd.prediction).rdd.map(lambda row: row.asDict())\n",
    "similar_cluster_rdd_new_final= similar_cluster_rdd_new.map(lambda x:[x['song_id'],cossim(x,song_random[0])])   \n",
    "u = similar_cluster_rdd_new_final.top(5, key=lambda x: x[1])\n",
    "e = time.time()"
   ]
  },
  {
   "cell_type": "code",
   "execution_count": 39,
   "id": "nutritional-paste",
   "metadata": {},
   "outputs": [
    {
     "data": {
      "application/vnd.jupyter.widget-view+json": {
       "model_id": "71b7249196b54c6ba911367ebb6442da",
       "version_major": 2,
       "version_minor": 0
      },
      "text/plain": [
       "VBox()"
      ]
     },
     "metadata": {},
     "output_type": "display_data"
    },
    {
     "data": {
      "application/vnd.jupyter.widget-view+json": {
       "model_id": "",
       "version_major": 2,
       "version_minor": 0
      },
      "text/plain": [
       "FloatProgress(value=0.0, bar_style='info', description='Progress:', layout=Layout(height='25px', width='50%'),…"
      ]
     },
     "metadata": {},
     "output_type": "display_data"
    },
    {
     "name": "stderr",
     "output_type": "stream",
     "text": [
      "name 'e' is not defined\n",
      "Traceback (most recent call last):\n",
      "NameError: name 'e' is not defined\n",
      "\n"
     ]
    }
   ],
   "source": [
    "s-e"
   ]
  },
  {
   "cell_type": "code",
   "execution_count": 49,
   "id": "exterior-stocks",
   "metadata": {},
   "outputs": [
    {
     "data": {
      "application/vnd.jupyter.widget-view+json": {
       "model_id": "0db5052b2965499896d9839b540cdd60",
       "version_major": 2,
       "version_minor": 0
      },
      "text/plain": [
       "VBox()"
      ]
     },
     "metadata": {},
     "output_type": "display_data"
    },
    {
     "data": {
      "application/vnd.jupyter.widget-view+json": {
       "model_id": "",
       "version_major": 2,
       "version_minor": 0
      },
      "text/plain": [
       "FloatProgress(value=0.0, bar_style='info', description='Progress:', layout=Layout(height='25px', width='50%'),…"
      ]
     },
     "metadata": {},
     "output_type": "display_data"
    },
    {
     "name": "stdout",
     "output_type": "stream",
     "text": [
      "13928"
     ]
    }
   ],
   "source": [
    "similar_cluster_rdd.count()"
   ]
  },
  {
   "cell_type": "code",
   "execution_count": 50,
   "id": "moved-financing",
   "metadata": {},
   "outputs": [
    {
     "data": {
      "application/vnd.jupyter.widget-view+json": {
       "model_id": "40a2277a499947b0bdc642ff9146f6ee",
       "version_major": 2,
       "version_minor": 0
      },
      "text/plain": [
       "VBox()"
      ]
     },
     "metadata": {},
     "output_type": "display_data"
    },
    {
     "data": {
      "application/vnd.jupyter.widget-view+json": {
       "model_id": "",
       "version_major": 2,
       "version_minor": 0
      },
      "text/plain": [
       "FloatProgress(value=0.0, bar_style='info', description='Progress:', layout=Layout(height='25px', width='50%'),…"
      ]
     },
     "metadata": {},
     "output_type": "display_data"
    },
    {
     "name": "stdout",
     "output_type": "stream",
     "text": [
      "[{'song_id': \"b'SOAQWAL12AB018ABA2'\", 'duration': 1.5837063501752038, 'end_of_fade_in': 1.0, 'key': 5.0, 'key_confidence': 3.612, 'mode': 1.0, 'mode_confidence': 5.0, 'loudness': 3.695468509984639, 'start_of_fade_out': 1.5722637526404073, 'time_signature_confidence': 4.132, 'artist_hotttnesss': 2.473472359334762, 'speed': 3.0}]"
     ]
    }
   ],
   "source": [
    "similar_cluster_rdd_new.take(1)"
   ]
  },
  {
   "cell_type": "code",
   "execution_count": null,
   "id": "informed-hostel",
   "metadata": {},
   "outputs": [],
   "source": [
    "import math\n",
    "\n",
    "def dotprod(a, b):\n",
    "    # TODO: Uncomment the template below and replace <FILL IN> with appropriate code\n",
    "    # return <FILL IN>\n",
    "    \n",
    "    dot=0\n",
    "    for k in a :\n",
    "        if k in b:\n",
    "            if k!='song_id':\n",
    "                dot+=a[k]*b[k]  \n",
    "    return dot\n",
    "\n",
    "def norm(a):\n",
    "    # TODO: Uncomment the template below and replace <FILL IN> with appropriate code\n",
    "    # return <FILL IN>\n",
    "    \n",
    "    dot=0\n",
    "    for k in a:\n",
    "        if k!='song_id':\n",
    "            dot+=a[k]*a[k]  \n",
    "    return math.sqrt(dot)\n",
    "\n",
    "def cossim(a, b):\n",
    "    # TODO: Uncomment the template below and replace <FILL IN> with appropriate code\n",
    "\n",
    "    num=dotprod(a, b)\n",
    "    denom=norm(a)*norm(b)\n",
    "    # YOUR CODE HERE\n",
    "    cos_sim=num/denom\n",
    "    \n",
    "    return cos_sim"
   ]
  },
  {
   "cell_type": "code",
   "execution_count": 52,
   "id": "double-pierce",
   "metadata": {},
   "outputs": [
    {
     "data": {
      "application/vnd.jupyter.widget-view+json": {
       "model_id": "c283d9762fc6423cbd371860ea64cf03",
       "version_major": 2,
       "version_minor": 0
      },
      "text/plain": [
       "VBox()"
      ]
     },
     "metadata": {},
     "output_type": "display_data"
    },
    {
     "data": {
      "application/vnd.jupyter.widget-view+json": {
       "model_id": "",
       "version_major": 2,
       "version_minor": 0
      },
      "text/plain": [
       "FloatProgress(value=0.0, bar_style='info', description='Progress:', layout=Layout(height='25px', width='50%'),…"
      ]
     },
     "metadata": {},
     "output_type": "display_data"
    },
    {
     "name": "stdout",
     "output_type": "stream",
     "text": [
      "[[\"b'SOAQWAL12AB018ABA2'\", 0.8459186124657676], [\"b'SOBCLMM12AB018DB61'\", 0.8477121075767472], [\"b'SOBLGQV12AB018EA54'\", 0.8463472277215823], [\"b'SOCCENB12A8C13595B'\", 0.8454402480905036], [\"b'SOCDVQP12A8AE465E0'\", 0.8471193196193906], [\"b'SOCICNU12B0B80BC8D'\", 0.8459849181355631], [\"b'SODAPPP12A67ADA451'\", 0.8474704927811396], [\"b'SODJHOK12A8C13FE05'\", 0.84627206415591], [\"b'SODMTOQ12AB018B3E4'\", 0.8479401251262007], [\"b'SOEBCVZ12A8C13AC7F'\", 0.8471544509787327]]"
     ]
    }
   ],
   "source": [
    "similar_cluster_rdd_new_final.take(10)"
   ]
  },
  {
   "cell_type": "code",
   "execution_count": 53,
   "id": "guided-joint",
   "metadata": {},
   "outputs": [
    {
     "data": {
      "application/vnd.jupyter.widget-view+json": {
       "model_id": "cad7d68817e7458e967db1796e4bdba5",
       "version_major": 2,
       "version_minor": 0
      },
      "text/plain": [
       "VBox()"
      ]
     },
     "metadata": {},
     "output_type": "display_data"
    },
    {
     "data": {
      "application/vnd.jupyter.widget-view+json": {
       "model_id": "",
       "version_major": 2,
       "version_minor": 0
      },
      "text/plain": [
       "FloatProgress(value=0.0, bar_style='info', description='Progress:', layout=Layout(height='25px', width='50%'),…"
      ]
     },
     "metadata": {},
     "output_type": "display_data"
    },
    {
     "name": "stdout",
     "output_type": "stream",
     "text": [
      "[[\"b'SOFTQSW12AB0183155'\", 0.84835849800881], [\"b'SOKZFRX12AB017EF3A'\", 0.8483319044643133], [\"b'SOLOJZQ12A8C13CE66'\", 0.8483292294166185], [\"b'SOUSKHR12A8C137FE6'\", 0.8483173320324371], [\"b'SOUHMLA12AB0189A5D'\", 0.8482781433119553]]"
     ]
    }
   ],
   "source": [
    "#https://rsandstroem.github.io/sparkkmeans.html\n",
    "#The top 5 recommended songs are:\n",
    "similar_cluster_rdd_new_final.top(5, key=lambda x: x[1])"
   ]
  },
  {
   "cell_type": "code",
   "execution_count": null,
   "id": "handmade-election",
   "metadata": {},
   "outputs": [],
   "source": []
  }
 ],
 "metadata": {
  "kernelspec": {
   "display_name": "PySpark",
   "language": "",
   "name": "pysparkkernel"
  },
  "language_info": {
   "codemirror_mode": {
    "name": "python",
    "version": 2
   },
   "mimetype": "text/x-python",
   "name": "pyspark",
   "pygments_lexer": "python2"
  }
 },
 "nbformat": 4,
 "nbformat_minor": 5
}
