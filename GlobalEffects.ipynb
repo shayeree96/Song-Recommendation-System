{
 "cells": [
  {
   "cell_type": "code",
   "execution_count": 1,
   "id": "thorough-crystal",
   "metadata": {},
   "outputs": [
    {
     "data": {
      "application/vnd.jupyter.widget-view+json": {
       "model_id": "f0b2d427800b4c068c68a12b9c5accf5",
       "version_major": 2,
       "version_minor": 0
      },
      "text/plain": [
       "VBox()"
      ]
     },
     "metadata": {},
     "output_type": "display_data"
    },
    {
     "name": "stdout",
     "output_type": "stream",
     "text": [
      "Starting Spark application\n"
     ]
    },
    {
     "data": {
      "text/html": [
       "<table>\n",
       "<tr><th>ID</th><th>YARN Application ID</th><th>Kind</th><th>State</th><th>Spark UI</th><th>Driver log</th><th>Current session?</th></tr><tr><td>0</td><td>application_1617198326784_0001</td><td>pyspark</td><td>idle</td><td><a target=\"_blank\" href=\"http://ip-172-31-90-76.ec2.internal:20888/proxy/application_1617198326784_0001/\">Link</a></td><td><a target=\"_blank\" href=\"http://ip-172-31-86-110.ec2.internal:8042/node/containerlogs/container_1617198326784_0001_01_000001/livy\">Link</a></td><td>✔</td></tr></table>"
      ],
      "text/plain": [
       "<IPython.core.display.HTML object>"
      ]
     },
     "metadata": {},
     "output_type": "display_data"
    },
    {
     "data": {
      "application/vnd.jupyter.widget-view+json": {
       "model_id": "",
       "version_major": 2,
       "version_minor": 0
      },
      "text/plain": [
       "FloatProgress(value=0.0, bar_style='info', description='Progress:', layout=Layout(height='25px', width='50%'),…"
      ]
     },
     "metadata": {},
     "output_type": "display_data"
    },
    {
     "name": "stdout",
     "output_type": "stream",
     "text": [
      "SparkSession available as 'spark'.\n"
     ]
    },
    {
     "data": {
      "application/vnd.jupyter.widget-view+json": {
       "model_id": "",
       "version_major": 2,
       "version_minor": 0
      },
      "text/plain": [
       "FloatProgress(value=0.0, bar_style='info', description='Progress:', layout=Layout(height='25px', width='50%'),…"
      ]
     },
     "metadata": {},
     "output_type": "display_data"
    }
   ],
   "source": [
    "from pyspark.sql import functions as F\n",
    "import pyspark\n",
    "from pyspark.sql import *\n",
    "from pyspark.sql.types import *\n",
    "from pyspark.sql.functions import *"
   ]
  },
  {
   "cell_type": "code",
   "execution_count": 2,
   "id": "discrete-cable",
   "metadata": {},
   "outputs": [
    {
     "data": {
      "application/vnd.jupyter.widget-view+json": {
       "model_id": "3000a85f30f848e6863cd06a60e00df5",
       "version_major": 2,
       "version_minor": 0
      },
      "text/plain": [
       "VBox()"
      ]
     },
     "metadata": {},
     "output_type": "display_data"
    },
    {
     "data": {
      "application/vnd.jupyter.widget-view+json": {
       "model_id": "",
       "version_major": 2,
       "version_minor": 0
      },
      "text/plain": [
       "FloatProgress(value=0.0, bar_style='info', description='Progress:', layout=Layout(height='25px', width='50%'),…"
      ]
     },
     "metadata": {},
     "output_type": "display_data"
    }
   ],
   "source": [
    "play_count = spark.read.parquet('s3://17700project/play_counts.parquet')"
   ]
  },
  {
   "cell_type": "code",
   "execution_count": 3,
   "id": "athletic-karen",
   "metadata": {},
   "outputs": [
    {
     "data": {
      "application/vnd.jupyter.widget-view+json": {
       "model_id": "ed24ee547f2745618c66e51d056ca525",
       "version_major": 2,
       "version_minor": 0
      },
      "text/plain": [
       "VBox()"
      ]
     },
     "metadata": {},
     "output_type": "display_data"
    },
    {
     "data": {
      "application/vnd.jupyter.widget-view+json": {
       "model_id": "",
       "version_major": 2,
       "version_minor": 0
      },
      "text/plain": [
       "FloatProgress(value=0.0, bar_style='info', description='Progress:', layout=Layout(height='25px', width='50%'),…"
      ]
     },
     "metadata": {},
     "output_type": "display_data"
    },
    {
     "name": "stdout",
     "output_type": "stream",
     "text": [
      "Training: 43537939, test: 4835646\n",
      "\n",
      "+------------------+--------------------+-----+----------+----------+\n",
      "|            songId|              userId|Plays|new_userId|new_songId|\n",
      "+------------------+--------------------+-----+----------+----------+\n",
      "|SOAAEKX12A6D4F7E4E|00732e30a5abe4bec...|    1|    950928|    359777|\n",
      "|SOAAEKX12A6D4F7E4E|00a3ee4941f7799ac...|    5|    473004|    359777|\n",
      "|SOAAEKX12A6D4F7E4E|0129ee80d24fc9fe4...|    2|    508986|    359777|\n",
      "+------------------+--------------------+-----+----------+----------+\n",
      "only showing top 3 rows\n",
      "\n",
      "+------------------+--------------------+-----+----------+----------+\n",
      "|            songId|              userId|Plays|new_userId|new_songId|\n",
      "+------------------+--------------------+-----+----------+----------+\n",
      "|SOAAEKX12A6D4F7E4E|03bfb186b1c7fbe92...|    1|    385109|    359777|\n",
      "|SOAAEKX12A6D4F7E4E|059266e024833d7a2...|    1|     67922|    359777|\n",
      "|SOAAEKX12A6D4F7E4E|065c1954997224976...|    1|    227403|    359777|\n",
      "+------------------+--------------------+-----+----------+----------+\n",
      "only showing top 3 rows"
     ]
    }
   ],
   "source": [
    "seed = 180000\n",
    "(split_90_df, split_10_df) = play_count.randomSplit([0.9, 0.10], seed = seed)\n",
    "\n",
    "# Let's cache these datasets for performance\n",
    "training_df = split_90_df.cache()\n",
    "test_df = split_10_df.cache()\n",
    "\n",
    "print('Training: {0}, test: {1}\\n'.format(\n",
    "  training_df.count(), test_df.count())\n",
    ")\n",
    "training_df.show(3)\n",
    "test_df.show(3)"
   ]
  },
  {
   "cell_type": "code",
   "execution_count": 4,
   "id": "duplicate-jersey",
   "metadata": {},
   "outputs": [
    {
     "data": {
      "application/vnd.jupyter.widget-view+json": {
       "model_id": "1f17125ef65e43fc9207916b2baec4fe",
       "version_major": 2,
       "version_minor": 0
      },
      "text/plain": [
       "VBox()"
      ]
     },
     "metadata": {},
     "output_type": "display_data"
    },
    {
     "data": {
      "application/vnd.jupyter.widget-view+json": {
       "model_id": "",
       "version_major": 2,
       "version_minor": 0
      },
      "text/plain": [
       "FloatProgress(value=0.0, bar_style='info', description='Progress:', layout=Layout(height='25px', width='50%'),…"
      ]
     },
     "metadata": {},
     "output_type": "display_data"
    }
   ],
   "source": [
    "from pyspark.ml import Pipeline, Transformer, Estimator\n",
    "\n",
    "class GlobalEstimator(Estimator):\n",
    "    def __init__(self):\n",
    "        super(GlobalEstimator, self).__init__()\n",
    "\n",
    "    def _fit(self, df):\n",
    "        avg_plays = df.agg({'Plays':'mean'}).collect()[0]['avg(Plays)']\n",
    "        \n",
    "        user_avg = training_df.groupBy('new_userId').agg({'Plays':'mean'})\n",
    "        user_bias = user_avg.select(col('new_userId').alias('user_id'), (user_avg['avg(Plays)']-avg_plays).alias('user_bias'))\n",
    "        user_bias = user_bias.rdd.map(lambda x: (x['user_id'], x['user_bias'])).collectAsMap()\n",
    "        user_bias_broadcast = sc.broadcast(user_bias) \n",
    "        \n",
    "        song_avg = training_df.groupBy('new_songId').agg({'Plays':'mean'})\n",
    "        song_bias = song_avg.select(col('new_songId').alias('song_id'), (song_avg['avg(Plays)']-avg_plays).alias('song_bias'))\n",
    "        song_bias = song_bias.rdd.map(lambda x: (x['song_id'], x['song_bias'])).collectAsMap()\n",
    "        song_bias_broadcast = sc.broadcast(song_bias) \n",
    "        \n",
    "        return GlobalTransformer(user_bias_broadcast, song_bias_broadcast, avg_plays)"
   ]
  },
  {
   "cell_type": "code",
   "execution_count": 5,
   "id": "color-nicaragua",
   "metadata": {},
   "outputs": [
    {
     "data": {
      "application/vnd.jupyter.widget-view+json": {
       "model_id": "7fef1a3253b44b39abc2c41648b51c29",
       "version_major": 2,
       "version_minor": 0
      },
      "text/plain": [
       "VBox()"
      ]
     },
     "metadata": {},
     "output_type": "display_data"
    },
    {
     "data": {
      "application/vnd.jupyter.widget-view+json": {
       "model_id": "",
       "version_major": 2,
       "version_minor": 0
      },
      "text/plain": [
       "FloatProgress(value=0.0, bar_style='info', description='Progress:', layout=Layout(height='25px', width='50%'),…"
      ]
     },
     "metadata": {},
     "output_type": "display_data"
    }
   ],
   "source": [
    "class GlobalTransformer(Transformer):\n",
    "    \"\"\"\n",
    "    A custom Transformer which drops all columns that have at least one of the\n",
    "    words from the banned_list in the name.\n",
    "    \"\"\"\n",
    "\n",
    "    def __init__(self, user_bias_broadcast, song_bias_broadcast, avg_plays):\n",
    "        super(GlobalTransformer, self).__init__()\n",
    "        self.user_bias_broadcast = user_bias_broadcast\n",
    "        self.song_bias_broadcast = song_bias_broadcast\n",
    "        self.avg_plays = avg_plays\n",
    "        \n",
    "    def predict(self, user_id, song_id):\n",
    "        try:\n",
    "            return self.user_bias_broadcast.value[user_id - 1] + self.song_bias_broadcast.value[song_id - 1] + self.avg_plays\n",
    "        except:\n",
    "            try:\n",
    "                return self.user_bias_broadcast.value[user_id - 1] + self.avg_plays\n",
    "            except:\n",
    "                try: \n",
    "                    return self.song_bias_broadcast.value[song_id - 1] + self.avg_plays\n",
    "                except:\n",
    "                    return self.avg_plays\n",
    "            \n",
    "    def _transform(self, df):\n",
    "        predict_udf = udf(lambda user_id,song_id: self.predict(user_id, song_id), DoubleType())\n",
    "        final_df = df.select(col('new_userId').alias('user_id'), col('new_songId').alias('song_id'), 'Plays',predict_udf(df.new_userId, df.new_songId).alias('pred_plays'))\n",
    "        \n",
    "        return final_df"
   ]
  },
  {
   "cell_type": "code",
   "execution_count": 6,
   "id": "purple-shakespeare",
   "metadata": {},
   "outputs": [
    {
     "data": {
      "application/vnd.jupyter.widget-view+json": {
       "model_id": "8c6c67b9a841420495a7a169cd76b937",
       "version_major": 2,
       "version_minor": 0
      },
      "text/plain": [
       "VBox()"
      ]
     },
     "metadata": {},
     "output_type": "display_data"
    },
    {
     "data": {
      "application/vnd.jupyter.widget-view+json": {
       "model_id": "",
       "version_major": 2,
       "version_minor": 0
      },
      "text/plain": [
       "FloatProgress(value=0.0, bar_style='info', description='Progress:', layout=Layout(height='25px', width='50%'),…"
      ]
     },
     "metadata": {},
     "output_type": "display_data"
    },
    {
     "name": "stdout",
     "output_type": "stream",
     "text": [
      "Pipeline_e712339b7077"
     ]
    }
   ],
   "source": [
    "global_model = GlobalEstimator()\n",
    "GlobalPipeline = Pipeline()\n",
    "\n",
    "GlobalPipeline.setStages([global_model])"
   ]
  },
  {
   "cell_type": "code",
   "execution_count": 7,
   "id": "quarterly-timeline",
   "metadata": {},
   "outputs": [
    {
     "data": {
      "application/vnd.jupyter.widget-view+json": {
       "model_id": "d36de91967544160a5a1020868ea8362",
       "version_major": 2,
       "version_minor": 0
      },
      "text/plain": [
       "VBox()"
      ]
     },
     "metadata": {},
     "output_type": "display_data"
    },
    {
     "data": {
      "application/vnd.jupyter.widget-view+json": {
       "model_id": "",
       "version_major": 2,
       "version_minor": 0
      },
      "text/plain": [
       "FloatProgress(value=0.0, bar_style='info', description='Progress:', layout=Layout(height='25px', width='50%'),…"
      ]
     },
     "metadata": {},
     "output_type": "display_data"
    }
   ],
   "source": [
    "from pyspark.ml.evaluation import RegressionEvaluator\n",
    "reg_eval = RegressionEvaluator(predictionCol=\"pred_plays\", labelCol=\"Plays\", metricName=\"rmse\")"
   ]
  },
  {
   "cell_type": "code",
   "execution_count": 8,
   "id": "brilliant-august",
   "metadata": {},
   "outputs": [
    {
     "data": {
      "application/vnd.jupyter.widget-view+json": {
       "model_id": "a03ed6188e6544c2baddfdec44578adb",
       "version_major": 2,
       "version_minor": 0
      },
      "text/plain": [
       "VBox()"
      ]
     },
     "metadata": {},
     "output_type": "display_data"
    },
    {
     "data": {
      "application/vnd.jupyter.widget-view+json": {
       "model_id": "",
       "version_major": 2,
       "version_minor": 0
      },
      "text/plain": [
       "FloatProgress(value=0.0, bar_style='info', description='Progress:', layout=Layout(height='25px', width='50%'),…"
      ]
     },
     "metadata": {},
     "output_type": "display_data"
    }
   ],
   "source": [
    "from pyspark.ml.tuning import CrossValidator\n",
    "import time\n",
    "\n",
    "strt_time = time.time()\n",
    "crossval = CrossValidator(estimator = GlobalPipeline, evaluator = reg_eval, numFolds=10)\n",
    "crossval.setEstimatorParamMaps([None])\n",
    "cvModel = crossval.fit(training_df).bestModel\n",
    "end_time = time.time()"
   ]
  },
  {
   "cell_type": "code",
   "execution_count": 9,
   "id": "sharp-justice",
   "metadata": {},
   "outputs": [
    {
     "data": {
      "application/vnd.jupyter.widget-view+json": {
       "model_id": "160f297e0c574f4c9f7a4300e28df37f",
       "version_major": 2,
       "version_minor": 0
      },
      "text/plain": [
       "VBox()"
      ]
     },
     "metadata": {},
     "output_type": "display_data"
    },
    {
     "data": {
      "application/vnd.jupyter.widget-view+json": {
       "model_id": "",
       "version_major": 2,
       "version_minor": 0
      },
      "text/plain": [
       "FloatProgress(value=0.0, bar_style='info', description='Progress:', layout=Layout(height='25px', width='50%'),…"
      ]
     },
     "metadata": {},
     "output_type": "display_data"
    },
    {
     "name": "stdout",
     "output_type": "stream",
     "text": [
      "7.544260519760814"
     ]
    }
   ],
   "source": [
    "reg_eval.evaluate(cvModel.transform(test_df))"
   ]
  },
  {
   "cell_type": "code",
   "execution_count": 10,
   "id": "polar-applicant",
   "metadata": {},
   "outputs": [
    {
     "data": {
      "application/vnd.jupyter.widget-view+json": {
       "model_id": "1fb20093781049b6b393d09f19711e9e",
       "version_major": 2,
       "version_minor": 0
      },
      "text/plain": [
       "VBox()"
      ]
     },
     "metadata": {},
     "output_type": "display_data"
    },
    {
     "data": {
      "application/vnd.jupyter.widget-view+json": {
       "model_id": "",
       "version_major": 2,
       "version_minor": 0
      },
      "text/plain": [
       "FloatProgress(value=0.0, bar_style='info', description='Progress:', layout=Layout(height='25px', width='50%'),…"
      ]
     },
     "metadata": {},
     "output_type": "display_data"
    },
    {
     "name": "stdout",
     "output_type": "stream",
     "text": [
      "442.99070739746094"
     ]
    }
   ],
   "source": [
    "end_time - strt_time"
   ]
  },
  {
   "cell_type": "code",
   "execution_count": 17,
   "id": "offensive-speaker",
   "metadata": {},
   "outputs": [
    {
     "data": {
      "application/vnd.jupyter.widget-view+json": {
       "model_id": "f13f0d5b41604f30ad78864b4648d779",
       "version_major": 2,
       "version_minor": 0
      },
      "text/plain": [
       "VBox()"
      ]
     },
     "metadata": {},
     "output_type": "display_data"
    },
    {
     "data": {
      "application/vnd.jupyter.widget-view+json": {
       "model_id": "",
       "version_major": 2,
       "version_minor": 0
      },
      "text/plain": [
       "FloatProgress(value=0.0, bar_style='info', description='Progress:', layout=Layout(height='25px', width='50%'),…"
      ]
     },
     "metadata": {},
     "output_type": "display_data"
    },
    {
     "name": "stderr",
     "output_type": "stream",
     "text": [
      "unsupported operand type(s) for +: 'float' and 'dict'\n",
      "Traceback (most recent call last):\n",
      "TypeError: unsupported operand type(s) for +: 'float' and 'dict'\n",
      "\n"
     ]
    }
   ],
   "source": [
    " + "
   ]
  },
  {
   "cell_type": "code",
   "execution_count": 20,
   "id": "invalid-beaver",
   "metadata": {},
   "outputs": [
    {
     "data": {
      "application/vnd.jupyter.widget-view+json": {
       "model_id": "a911af77475a4203ae30d2400e6ef1ea",
       "version_major": 2,
       "version_minor": 0
      },
      "text/plain": [
       "VBox()"
      ]
     },
     "metadata": {},
     "output_type": "display_data"
    },
    {
     "data": {
      "application/vnd.jupyter.widget-view+json": {
       "model_id": "",
       "version_major": 2,
       "version_minor": 0
      },
      "text/plain": [
       "FloatProgress(value=0.0, bar_style='info', description='Progress:', layout=Layout(height='25px', width='50%'),…"
      ]
     },
     "metadata": {},
     "output_type": "display_data"
    }
   ],
   "source": []
  },
  {
   "cell_type": "code",
   "execution_count": 12,
   "id": "fifty-means",
   "metadata": {},
   "outputs": [
    {
     "data": {
      "application/vnd.jupyter.widget-view+json": {
       "model_id": "f382e95f2ec44fef842c33a8ec8bcbb8",
       "version_major": 2,
       "version_minor": 0
      },
      "text/plain": [
       "VBox()"
      ]
     },
     "metadata": {},
     "output_type": "display_data"
    },
    {
     "data": {
      "application/vnd.jupyter.widget-view+json": {
       "model_id": "",
       "version_major": 2,
       "version_minor": 0
      },
      "text/plain": [
       "FloatProgress(value=0.0, bar_style='info', description='Progress:', layout=Layout(height='25px', width='50%'),…"
      ]
     },
     "metadata": {},
     "output_type": "display_data"
    },
    {
     "name": "stdout",
     "output_type": "stream",
     "text": [
      "[(346214, 337.8544741353502), (380758, 222.85447413535022), (289693, 168.85447413535022), (108898, 157.4544741353502), (164886, 134.85447413535022)]"
     ]
    }
   ],
   "source": [
    "strt_time = time.time()\n",
    "song_bias = sc.parallelize(cvModel.stages[0].song_bias_broadcast.value.items())\n",
    "song_rating = song_bias.map(lambda x: (x[0], cvModel.stages[0].avg_plays + cvModel.stages[0].user_bias_broadcast.value[17]+x[1]))\\\n",
    "                        .sortBy(lambda x:x[1], ascending = False)\n",
    "print(song_rating.take(5))\n",
    "end_time = time.time()"
   ]
  },
  {
   "cell_type": "code",
   "execution_count": 13,
   "id": "flexible-projector",
   "metadata": {},
   "outputs": [
    {
     "data": {
      "application/vnd.jupyter.widget-view+json": {
       "model_id": "ff2c9839c67b487cb0db1bc948e1f25f",
       "version_major": 2,
       "version_minor": 0
      },
      "text/plain": [
       "VBox()"
      ]
     },
     "metadata": {},
     "output_type": "display_data"
    },
    {
     "data": {
      "application/vnd.jupyter.widget-view+json": {
       "model_id": "",
       "version_major": 2,
       "version_minor": 0
      },
      "text/plain": [
       "FloatProgress(value=0.0, bar_style='info', description='Progress:', layout=Layout(height='25px', width='50%'),…"
      ]
     },
     "metadata": {},
     "output_type": "display_data"
    },
    {
     "name": "stdout",
     "output_type": "stream",
     "text": [
      "-1.2321062088012695"
     ]
    }
   ],
   "source": [
    "strt_time-end_time"
   ]
  },
  {
   "cell_type": "code",
   "execution_count": null,
   "id": "exotic-manor",
   "metadata": {},
   "outputs": [],
   "source": []
  }
 ],
 "metadata": {
  "kernelspec": {
   "display_name": "PySpark",
   "language": "",
   "name": "pysparkkernel"
  },
  "language_info": {
   "codemirror_mode": {
    "name": "python",
    "version": 2
   },
   "mimetype": "text/x-python",
   "name": "pyspark",
   "pygments_lexer": "python2"
  }
 },
 "nbformat": 4,
 "nbformat_minor": 5
}
